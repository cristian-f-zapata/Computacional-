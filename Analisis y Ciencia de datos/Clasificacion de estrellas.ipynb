{
 "cells": [
  {
   "cell_type": "code",
   "execution_count": 165,
   "id": "2080192a",
   "metadata": {},
   "outputs": [],
   "source": [
    "import pandas as pd\n",
    "import numpy as np \n",
    "import imblearn \n",
    "import seaborn as sns\n",
    "import matplotlib.pyplot as plt\n",
    "from matplotlib.pyplot import figure\n",
    "import random\n",
    "import pickle\n",
    "from collections import Counter\n",
    "from sklearn.utils import shuffle\n",
    "from sklearn.preprocessing import OneHotEncoder\n",
    "from sklearn.impute import SimpleImputer, KNNImputer\n",
    "from sklearn.model_selection import train_test_split, learning_curve\n",
    "from sklearn.tree import DecisionTreeClassifier\n",
    "from sklearn.metrics import classification_report, accuracy_score, precision_recall_fscore_support, confusion_matrix, plot_confusion_matrix, precision_score, recall_score, roc_auc_score\n",
    "from sklearn.ensemble import RandomForestClassifier, GradientBoostingClassifier\n",
    "from imblearn.over_sampling import RandomOverSampler, SMOTE\n",
    "from sklearn.preprocessing import StandardScaler, PolynomialFeatures, label_binarize, LabelEncoder\n",
    "from imblearn.under_sampling import RandomUnderSampler\n",
    "from sklearn import metrics\n",
    "from sklearn.metrics import r2_score, confusion_matrix, accuracy_score, roc_auc_score\n",
    "from sklearn.metrics import precision_recall_fscore_support as score\n",
    "from sklearn.inspection import permutation_importance\n",
    "from sklearn.model_selection import train_test_split, GridSearchCV, KFold, StratifiedShuffleSplit\n",
    "from sklearn.tree import DecisionTreeClassifier\n",
    "from sklearn import tree\n",
    "from sklearn.preprocessing import MinMaxScaler\n",
    "from sklearn.model_selection import GridSearchCV\n",
    "from sklearn.linear_model import LinearRegression, Lasso, Ridge, LogisticRegression, LogisticRegressionCV"
   ]
  },
  {
   "cell_type": "code",
   "execution_count": 166,
   "id": "17d3d89c",
   "metadata": {},
   "outputs": [
    {
     "data": {
      "text/plain": [
       "'Datos importantes'"
      ]
     },
     "execution_count": 166,
     "metadata": {},
     "output_type": "execute_result"
    }
   ],
   "source": [
    "\"\"\"Datos importantes\"\"\"\n",
    "\n",
    "#Absolute Temperature (in K)\n",
    "#Relative Luminosity (L/Lo)\n",
    "#Relative Radius (R/Ro)\n",
    "#Absolute Magnitude (Mv)\n",
    "#Star Color (white,Red,Blue,Yellow,yellow-orange etc)\n",
    "#Spectral Class (O,B,A,F,G,K,,M)\n",
    "#Star Type **(Red Dwarf, Brown Dwarf, White Dwarf, Main Sequence , SuperGiants, HyperGiants)**\n",
    "#Lo = 3.828 x 10^26 Watts (Avg Luminosity of Sun)\n",
    "#Ro = 6.9551 x 10^8 m (Avg Radius of Sun)\n",
    "\n",
    "\n",
    "#Brown Dwarf -> Star Type = 0\n",
    "#Red Dwarf -> Star Type = 1\n",
    "#White Dwarf-> Star Type = 2\n",
    "#Main Sequence -> Star Type = 3\n",
    "#Supergiant -> Star Type = 4\n",
    "#Hypergiant -> Star Type = 5\n"
   ]
  },
  {
   "cell_type": "code",
   "execution_count": 287,
   "id": "616a8142",
   "metadata": {},
   "outputs": [
    {
     "data": {
      "text/html": [
       "<div>\n",
       "<style scoped>\n",
       "    .dataframe tbody tr th:only-of-type {\n",
       "        vertical-align: middle;\n",
       "    }\n",
       "\n",
       "    .dataframe tbody tr th {\n",
       "        vertical-align: top;\n",
       "    }\n",
       "\n",
       "    .dataframe thead th {\n",
       "        text-align: right;\n",
       "    }\n",
       "</style>\n",
       "<table border=\"1\" class=\"dataframe\">\n",
       "  <thead>\n",
       "    <tr style=\"text-align: right;\">\n",
       "      <th></th>\n",
       "      <th>Temperature (K)</th>\n",
       "      <th>Luminosity(L/Lo)</th>\n",
       "      <th>Radius(R/Ro)</th>\n",
       "      <th>Absolute magnitude(Mv)</th>\n",
       "      <th>Star type</th>\n",
       "      <th>Star color</th>\n",
       "      <th>Spectral Class</th>\n",
       "    </tr>\n",
       "  </thead>\n",
       "  <tbody>\n",
       "    <tr>\n",
       "      <th>0</th>\n",
       "      <td>3068</td>\n",
       "      <td>0.002400</td>\n",
       "      <td>0.1700</td>\n",
       "      <td>16.12</td>\n",
       "      <td>0</td>\n",
       "      <td>Red</td>\n",
       "      <td>M</td>\n",
       "    </tr>\n",
       "    <tr>\n",
       "      <th>1</th>\n",
       "      <td>3042</td>\n",
       "      <td>0.000500</td>\n",
       "      <td>0.1542</td>\n",
       "      <td>16.60</td>\n",
       "      <td>0</td>\n",
       "      <td>Red</td>\n",
       "      <td>M</td>\n",
       "    </tr>\n",
       "    <tr>\n",
       "      <th>2</th>\n",
       "      <td>2600</td>\n",
       "      <td>0.000300</td>\n",
       "      <td>0.1020</td>\n",
       "      <td>18.70</td>\n",
       "      <td>0</td>\n",
       "      <td>Red</td>\n",
       "      <td>M</td>\n",
       "    </tr>\n",
       "    <tr>\n",
       "      <th>3</th>\n",
       "      <td>2800</td>\n",
       "      <td>0.000200</td>\n",
       "      <td>0.1600</td>\n",
       "      <td>16.65</td>\n",
       "      <td>0</td>\n",
       "      <td>Red</td>\n",
       "      <td>M</td>\n",
       "    </tr>\n",
       "    <tr>\n",
       "      <th>4</th>\n",
       "      <td>1939</td>\n",
       "      <td>0.000138</td>\n",
       "      <td>0.1030</td>\n",
       "      <td>20.06</td>\n",
       "      <td>0</td>\n",
       "      <td>Red</td>\n",
       "      <td>M</td>\n",
       "    </tr>\n",
       "    <tr>\n",
       "      <th>5</th>\n",
       "      <td>2840</td>\n",
       "      <td>0.000650</td>\n",
       "      <td>0.1100</td>\n",
       "      <td>16.98</td>\n",
       "      <td>0</td>\n",
       "      <td>Red</td>\n",
       "      <td>M</td>\n",
       "    </tr>\n",
       "    <tr>\n",
       "      <th>6</th>\n",
       "      <td>2637</td>\n",
       "      <td>0.000730</td>\n",
       "      <td>0.1270</td>\n",
       "      <td>17.22</td>\n",
       "      <td>0</td>\n",
       "      <td>Red</td>\n",
       "      <td>M</td>\n",
       "    </tr>\n",
       "    <tr>\n",
       "      <th>7</th>\n",
       "      <td>2600</td>\n",
       "      <td>0.000400</td>\n",
       "      <td>0.0960</td>\n",
       "      <td>17.40</td>\n",
       "      <td>0</td>\n",
       "      <td>Red</td>\n",
       "      <td>M</td>\n",
       "    </tr>\n",
       "    <tr>\n",
       "      <th>8</th>\n",
       "      <td>2650</td>\n",
       "      <td>0.000690</td>\n",
       "      <td>0.1100</td>\n",
       "      <td>17.45</td>\n",
       "      <td>0</td>\n",
       "      <td>Red</td>\n",
       "      <td>M</td>\n",
       "    </tr>\n",
       "    <tr>\n",
       "      <th>9</th>\n",
       "      <td>2700</td>\n",
       "      <td>0.000180</td>\n",
       "      <td>0.1300</td>\n",
       "      <td>16.05</td>\n",
       "      <td>0</td>\n",
       "      <td>Red</td>\n",
       "      <td>M</td>\n",
       "    </tr>\n",
       "  </tbody>\n",
       "</table>\n",
       "</div>"
      ],
      "text/plain": [
       "   Temperature (K)  Luminosity(L/Lo)  Radius(R/Ro)  Absolute magnitude(Mv)  \\\n",
       "0             3068          0.002400        0.1700                   16.12   \n",
       "1             3042          0.000500        0.1542                   16.60   \n",
       "2             2600          0.000300        0.1020                   18.70   \n",
       "3             2800          0.000200        0.1600                   16.65   \n",
       "4             1939          0.000138        0.1030                   20.06   \n",
       "5             2840          0.000650        0.1100                   16.98   \n",
       "6             2637          0.000730        0.1270                   17.22   \n",
       "7             2600          0.000400        0.0960                   17.40   \n",
       "8             2650          0.000690        0.1100                   17.45   \n",
       "9             2700          0.000180        0.1300                   16.05   \n",
       "\n",
       "   Star type Star color Spectral Class  \n",
       "0          0        Red              M  \n",
       "1          0        Red              M  \n",
       "2          0        Red              M  \n",
       "3          0        Red              M  \n",
       "4          0        Red              M  \n",
       "5          0        Red              M  \n",
       "6          0        Red              M  \n",
       "7          0        Red              M  \n",
       "8          0        Red              M  \n",
       "9          0        Red              M  "
      ]
     },
     "execution_count": 287,
     "metadata": {},
     "output_type": "execute_result"
    }
   ],
   "source": [
    "df = pd.read_csv('6 class csv.csv')\n",
    "df.head(10)"
   ]
  },
  {
   "cell_type": "code",
   "execution_count": 288,
   "id": "bf5f403a",
   "metadata": {},
   "outputs": [
    {
     "name": "stdout",
     "output_type": "stream",
     "text": [
      "<class 'pandas.core.frame.DataFrame'>\n",
      "RangeIndex: 240 entries, 0 to 239\n",
      "Data columns (total 7 columns):\n",
      " #   Column                  Non-Null Count  Dtype  \n",
      "---  ------                  --------------  -----  \n",
      " 0   Temperature (K)         240 non-null    int64  \n",
      " 1   Luminosity(L/Lo)        240 non-null    float64\n",
      " 2   Radius(R/Ro)            240 non-null    float64\n",
      " 3   Absolute magnitude(Mv)  240 non-null    float64\n",
      " 4   Star type               240 non-null    int64  \n",
      " 5   Star color              240 non-null    object \n",
      " 6   Spectral Class          240 non-null    object \n",
      "dtypes: float64(3), int64(2), object(2)\n",
      "memory usage: 13.2+ KB\n"
     ]
    }
   ],
   "source": [
    "#Sin nulos\n",
    "df.info()"
   ]
  },
  {
   "cell_type": "code",
   "execution_count": 289,
   "id": "4682baf8",
   "metadata": {},
   "outputs": [],
   "source": [
    "#cambio color colum\n",
    "df = df.rename(columns={'Star color':'stars_color'}) "
   ]
  },
  {
   "cell_type": "code",
   "execution_count": 290,
   "id": "9e83a708",
   "metadata": {},
   "outputs": [
    {
     "data": {
      "text/html": [
       "<div>\n",
       "<style scoped>\n",
       "    .dataframe tbody tr th:only-of-type {\n",
       "        vertical-align: middle;\n",
       "    }\n",
       "\n",
       "    .dataframe tbody tr th {\n",
       "        vertical-align: top;\n",
       "    }\n",
       "\n",
       "    .dataframe thead th {\n",
       "        text-align: right;\n",
       "    }\n",
       "</style>\n",
       "<table border=\"1\" class=\"dataframe\">\n",
       "  <thead>\n",
       "    <tr style=\"text-align: right;\">\n",
       "      <th></th>\n",
       "      <th>stars_color</th>\n",
       "    </tr>\n",
       "  </thead>\n",
       "  <tbody>\n",
       "    <tr>\n",
       "      <th>Red</th>\n",
       "      <td>112</td>\n",
       "    </tr>\n",
       "    <tr>\n",
       "      <th>Blue</th>\n",
       "      <td>55</td>\n",
       "    </tr>\n",
       "    <tr>\n",
       "      <th>Blue-white</th>\n",
       "      <td>26</td>\n",
       "    </tr>\n",
       "    <tr>\n",
       "      <th>Blue White</th>\n",
       "      <td>10</td>\n",
       "    </tr>\n",
       "    <tr>\n",
       "      <th>yellow-white</th>\n",
       "      <td>8</td>\n",
       "    </tr>\n",
       "    <tr>\n",
       "      <th>White</th>\n",
       "      <td>7</td>\n",
       "    </tr>\n",
       "    <tr>\n",
       "      <th>Blue white</th>\n",
       "      <td>3</td>\n",
       "    </tr>\n",
       "    <tr>\n",
       "      <th>Yellowish White</th>\n",
       "      <td>3</td>\n",
       "    </tr>\n",
       "    <tr>\n",
       "      <th>white</th>\n",
       "      <td>3</td>\n",
       "    </tr>\n",
       "    <tr>\n",
       "      <th>yellowish</th>\n",
       "      <td>2</td>\n",
       "    </tr>\n",
       "    <tr>\n",
       "      <th>Whitish</th>\n",
       "      <td>2</td>\n",
       "    </tr>\n",
       "    <tr>\n",
       "      <th>Orange</th>\n",
       "      <td>2</td>\n",
       "    </tr>\n",
       "    <tr>\n",
       "      <th>Pale yellow orange</th>\n",
       "      <td>1</td>\n",
       "    </tr>\n",
       "    <tr>\n",
       "      <th>White-Yellow</th>\n",
       "      <td>1</td>\n",
       "    </tr>\n",
       "    <tr>\n",
       "      <th>Blue</th>\n",
       "      <td>1</td>\n",
       "    </tr>\n",
       "    <tr>\n",
       "      <th>Yellowish</th>\n",
       "      <td>1</td>\n",
       "    </tr>\n",
       "    <tr>\n",
       "      <th>Orange-Red</th>\n",
       "      <td>1</td>\n",
       "    </tr>\n",
       "    <tr>\n",
       "      <th>Blue white</th>\n",
       "      <td>1</td>\n",
       "    </tr>\n",
       "    <tr>\n",
       "      <th>Blue-White</th>\n",
       "      <td>1</td>\n",
       "    </tr>\n",
       "  </tbody>\n",
       "</table>\n",
       "</div>"
      ],
      "text/plain": [
       "                    stars_color\n",
       "Red                         112\n",
       "Blue                         55\n",
       "Blue-white                   26\n",
       "Blue White                   10\n",
       "yellow-white                  8\n",
       "White                         7\n",
       "Blue white                    3\n",
       "Yellowish White               3\n",
       "white                         3\n",
       "yellowish                     2\n",
       "Whitish                       2\n",
       "Orange                        2\n",
       "Pale yellow orange            1\n",
       "White-Yellow                  1\n",
       "Blue                          1\n",
       "Yellowish                     1\n",
       "Orange-Red                    1\n",
       "Blue white                    1\n",
       "Blue-White                    1"
      ]
     },
     "execution_count": 290,
     "metadata": {},
     "output_type": "execute_result"
    }
   ],
   "source": [
    "#veo valores de colum repetidos escritos diferentes\n",
    "stars_color = pd.DataFrame(df['stars_color'].value_counts().sort_values(ascending=False))\n",
    "stars_color"
   ]
  },
  {
   "cell_type": "code",
   "execution_count": 291,
   "id": "68f168eb",
   "metadata": {},
   "outputs": [],
   "source": [
    "#Cambio conmbres diferentes\n",
    "df=df.replace({\"Blue\":\"Blue\", \"Blue-white\":\"Blue White\",\"Blue white\":\"Blue White\",\"Blue white\":\"Blue White\", \"Blue-White\":\"Blue White\",\"yellow-white\":\"Yellowish White\", \"white\":\"White\", \"White-Yellow\":\"Yellowish White\", \"yellowish\":\"Yellowish White\", \"Yellowish\":\"Yellowish White\",\"Blue white\":\"Blue White\", \"Whitish\":\"White\",\"Blue white\":\"Blue White\"})"
   ]
  },
  {
   "cell_type": "code",
   "execution_count": 292,
   "id": "4795aefa",
   "metadata": {},
   "outputs": [
    {
     "data": {
      "text/html": [
       "<div>\n",
       "<style scoped>\n",
       "    .dataframe tbody tr th:only-of-type {\n",
       "        vertical-align: middle;\n",
       "    }\n",
       "\n",
       "    .dataframe tbody tr th {\n",
       "        vertical-align: top;\n",
       "    }\n",
       "\n",
       "    .dataframe thead th {\n",
       "        text-align: right;\n",
       "    }\n",
       "</style>\n",
       "<table border=\"1\" class=\"dataframe\">\n",
       "  <thead>\n",
       "    <tr style=\"text-align: right;\">\n",
       "      <th></th>\n",
       "      <th>stars_color</th>\n",
       "    </tr>\n",
       "  </thead>\n",
       "  <tbody>\n",
       "    <tr>\n",
       "      <th>Red</th>\n",
       "      <td>112</td>\n",
       "    </tr>\n",
       "    <tr>\n",
       "      <th>Blue</th>\n",
       "      <td>55</td>\n",
       "    </tr>\n",
       "    <tr>\n",
       "      <th>Blue White</th>\n",
       "      <td>40</td>\n",
       "    </tr>\n",
       "    <tr>\n",
       "      <th>Yellowish White</th>\n",
       "      <td>15</td>\n",
       "    </tr>\n",
       "    <tr>\n",
       "      <th>White</th>\n",
       "      <td>12</td>\n",
       "    </tr>\n",
       "    <tr>\n",
       "      <th>Orange</th>\n",
       "      <td>2</td>\n",
       "    </tr>\n",
       "    <tr>\n",
       "      <th>Pale yellow orange</th>\n",
       "      <td>1</td>\n",
       "    </tr>\n",
       "    <tr>\n",
       "      <th>Blue</th>\n",
       "      <td>1</td>\n",
       "    </tr>\n",
       "    <tr>\n",
       "      <th>Orange-Red</th>\n",
       "      <td>1</td>\n",
       "    </tr>\n",
       "    <tr>\n",
       "      <th>Blue white</th>\n",
       "      <td>1</td>\n",
       "    </tr>\n",
       "  </tbody>\n",
       "</table>\n",
       "</div>"
      ],
      "text/plain": [
       "                    stars_color\n",
       "Red                         112\n",
       "Blue                         55\n",
       "Blue White                   40\n",
       "Yellowish White              15\n",
       "White                        12\n",
       "Orange                        2\n",
       "Pale yellow orange            1\n",
       "Blue                          1\n",
       "Orange-Red                    1\n",
       "Blue white                    1"
      ]
     },
     "execution_count": 292,
     "metadata": {},
     "output_type": "execute_result"
    }
   ],
   "source": [
    "stars_color = pd.DataFrame(df['stars_color'].value_counts().sort_values(ascending=False))\n",
    "stars_color"
   ]
  },
  {
   "cell_type": "code",
   "execution_count": 293,
   "id": "bf8c1ab3",
   "metadata": {},
   "outputs": [
    {
     "data": {
      "image/png": "[encoded data removed]",
      "text/plain": [
       "<Figure size 1800x720 with 1 Axes>"
      ]
     },
     "metadata": {
      "needs_background": "light"
     },
     "output_type": "display_data"
    }
   ],
   "source": [
    "#grafico de barras colores estrellas\n",
    "stars_color = pd.DataFrame(df['stars_color'].value_counts().sort_values(ascending=False))\n",
    "plt.figure(figsize=(25,10))\n",
    "ax = sns.barplot(x = stars_color.index, y = 'stars_color' , data = stars_color, palette='rocket')\n",
    "ax = ax.set_xticklabels(ax.get_xticklabels(), rotation=90)\n",
    "plt.savefig(\"grafico\")"
   ]
  },
  {
   "cell_type": "code",
   "execution_count": 294,
   "id": "b58adf30",
   "metadata": {},
   "outputs": [],
   "source": [
    "#xxxxxxxxxxxxxxxxxxxxxxxxxxxxxxx"
   ]
  },
  {
   "cell_type": "code",
   "execution_count": 295,
   "id": "56e34d38",
   "metadata": {},
   "outputs": [
    {
     "data": {
      "text/html": [
       "<div>\n",
       "<style scoped>\n",
       "    .dataframe tbody tr th:only-of-type {\n",
       "        vertical-align: middle;\n",
       "    }\n",
       "\n",
       "    .dataframe tbody tr th {\n",
       "        vertical-align: top;\n",
       "    }\n",
       "\n",
       "    .dataframe thead th {\n",
       "        text-align: right;\n",
       "    }\n",
       "</style>\n",
       "<table border=\"1\" class=\"dataframe\">\n",
       "  <thead>\n",
       "    <tr style=\"text-align: right;\">\n",
       "      <th></th>\n",
       "      <th>Temperature (K)</th>\n",
       "      <th>Luminosity(L/Lo)</th>\n",
       "      <th>Radius(R/Ro)</th>\n",
       "      <th>Absolute magnitude(Mv)</th>\n",
       "      <th>Star type</th>\n",
       "      <th>stars_color</th>\n",
       "      <th>Spectral Class</th>\n",
       "    </tr>\n",
       "  </thead>\n",
       "  <tbody>\n",
       "  </tbody>\n",
       "</table>\n",
       "</div>"
      ],
      "text/plain": [
       "Empty DataFrame\n",
       "Columns: [Temperature (K), Luminosity(L/Lo), Radius(R/Ro), Absolute magnitude(Mv), Star type, stars_color, Spectral Class]\n",
       "Index: []"
      ]
     },
     "execution_count": 295,
     "metadata": {},
     "output_type": "execute_result"
    }
   ],
   "source": [
    "#Hay luminocidades negativas...\n",
    "dfff=df[df[\"Luminosity(L/Lo)\"]<0]\n",
    "dfff"
   ]
  },
  {
   "cell_type": "code",
   "execution_count": 296,
   "id": "32b33cb9",
   "metadata": {},
   "outputs": [],
   "source": [
    "#me aseguto que sean positivos\n",
    "\n",
    "f1=lambda x: abs(x)\n",
    "df[\"Temperature (K)\"]=df[\"Temperature (K)\"].apply(f1)\n",
    "df[\"Luminosity(L/Lo)\"]=df[\"Luminosity(L/Lo)\"].apply(f1)\n",
    "df[\"Radius(R/Ro)\"]=df[\"Radius(R/Ro)\"].apply(f1)\n"
   ]
  },
  {
   "cell_type": "code",
   "execution_count": 303,
   "id": "76700cd3",
   "metadata": {},
   "outputs": [
    {
     "data": {
      "image/png": "[encoded data removed]",
      "text/plain": [
       "<Figure size 1800x504 with 1 Axes>"
      ]
     },
     "metadata": {
      "needs_background": "light"
     },
     "output_type": "display_data"
    }
   ],
   "source": [
    "#ouliers luminocidad relativa\n",
    "ax = sns.catplot(x = 'stars_color', y = 'Luminosity(L/Lo)', kind = \"box\", data = df, palette='rocket')\n",
    "ax = ax.fig.set_size_inches(25, 7)"
   ]
  },
  {
   "cell_type": "code",
   "execution_count": 304,
   "id": "c5d9674b",
   "metadata": {},
   "outputs": [
    {
     "data": {
      "image/png": "[encoded data removed]",
      "text/plain": [
       "<Figure size 1800x504 with 1 Axes>"
      ]
     },
     "metadata": {
      "needs_background": "light"
     },
     "output_type": "display_data"
    }
   ],
   "source": [
    "#ouliers temperatura\n",
    "ax = sns.catplot(x = 'stars_color', y = \"Temperature (K)\", kind = \"box\", data = df, palette='rocket')\n",
    "ax = ax.fig.set_size_inches(25, 7)"
   ]
  },
  {
   "cell_type": "code",
   "execution_count": 305,
   "id": "e5d36b73",
   "metadata": {},
   "outputs": [
    {
     "data": {
      "image/png": "[encoded data removed]",
      "text/plain": [
       "<Figure size 1800x504 with 1 Axes>"
      ]
     },
     "metadata": {
      "needs_background": "light"
     },
     "output_type": "display_data"
    }
   ],
   "source": [
    "#ouliers radio relativo\n",
    "ax = sns.catplot(x = 'stars_color', y = \"Radius(R/Ro)\", kind = \"box\", data = df, palette='rocket')\n",
    "ax = ax.fig.set_size_inches(25, 7)"
   ]
  },
  {
   "cell_type": "code",
   "execution_count": 306,
   "id": "6cff3b6e",
   "metadata": {},
   "outputs": [],
   "source": [
    "#Como hay mucho outlier, vamos a aplicar una tranformacion logaritmica"
   ]
  },
  {
   "cell_type": "code",
   "execution_count": 307,
   "id": "ad176cb3",
   "metadata": {},
   "outputs": [],
   "source": [
    "f=lambda x:  np.log(x)\n",
    "df['Luminosity(L/Lo)']=df['Luminosity(L/Lo)'].apply(f)"
   ]
  },
  {
   "cell_type": "code",
   "execution_count": 308,
   "id": "653d0eff",
   "metadata": {
    "scrolled": true
   },
   "outputs": [
    {
     "data": {
      "image/png": "[encoded data removed]",
      "text/plain": [
       "<Figure size 1800x504 with 1 Axes>"
      ]
     },
     "metadata": {
      "needs_background": "light"
     },
     "output_type": "display_data"
    }
   ],
   "source": [
    "ax = sns.catplot(x = 'stars_color', y = 'Luminosity(L/Lo)', kind = \"box\", data = df, palette='rocket')\n",
    "ax = ax.fig.set_size_inches(25, 7)"
   ]
  },
  {
   "cell_type": "code",
   "execution_count": 309,
   "id": "a8443ad8",
   "metadata": {},
   "outputs": [
    {
     "data": {
      "image/png": "[encoded data removed]",
      "text/plain": [
       "<Figure size 1800x504 with 1 Axes>"
      ]
     },
     "metadata": {
      "needs_background": "light"
     },
     "output_type": "display_data"
    }
   ],
   "source": [
    "df[\"Radius(R/Ro)\"]=df[\"Radius(R/Ro)\"].apply(f)\n",
    "ax = sns.catplot(x = 'stars_color', y = \"Radius(R/Ro)\", kind = \"box\", data = df, palette='rocket')\n",
    "ax = ax.fig.set_size_inches(25, 7)"
   ]
  },
  {
   "cell_type": "code",
   "execution_count": 310,
   "id": "e9273102",
   "metadata": {},
   "outputs": [],
   "source": [
    "#crea un diccionario para luego codificar valores no numericos\n",
    "\n",
    "df1 = {\n",
    "    'temperature': df['Temperature (K)'],\n",
    "    'Ln(luminosity)': df['Luminosity(L/Lo)'],\n",
    "    'radius': df['Radius(R/Ro)'],\n",
    "    'absolute_magnitude': df['Absolute magnitude(Mv)'],\n",
    "    'star_color': df['stars_color'],\n",
    "    'spectral_class': df['Spectral Class'],'star_type': df['Star type']}\n",
    "\n",
    "df1 = pd.DataFrame.from_dict(df1)\n",
    "df1['star_type'] = df1['star_type'].astype('category').cat.codes\n",
    "df1['star_color'] = df1['star_color'].astype('category').cat.codes\n",
    "df1['spectral_class'] = df1['spectral_class'].astype('category').cat.codes"
   ]
  },
  {
   "cell_type": "code",
   "execution_count": 311,
   "id": "bc2d5c3f",
   "metadata": {},
   "outputs": [
    {
     "data": {
      "text/html": [
       "<div>\n",
       "<style scoped>\n",
       "    .dataframe tbody tr th:only-of-type {\n",
       "        vertical-align: middle;\n",
       "    }\n",
       "\n",
       "    .dataframe tbody tr th {\n",
       "        vertical-align: top;\n",
       "    }\n",
       "\n",
       "    .dataframe thead th {\n",
       "        text-align: right;\n",
       "    }\n",
       "</style>\n",
       "<table border=\"1\" class=\"dataframe\">\n",
       "  <thead>\n",
       "    <tr style=\"text-align: right;\">\n",
       "      <th></th>\n",
       "      <th>temperature</th>\n",
       "      <th>Ln(luminosity)</th>\n",
       "      <th>radius</th>\n",
       "      <th>absolute_magnitude</th>\n",
       "      <th>star_color</th>\n",
       "      <th>spectral_class</th>\n",
       "      <th>star_type</th>\n",
       "    </tr>\n",
       "  </thead>\n",
       "  <tbody>\n",
       "    <tr>\n",
       "      <th>0</th>\n",
       "      <td>3068</td>\n",
       "      <td>-6.032287</td>\n",
       "      <td>-1.771957</td>\n",
       "      <td>16.120</td>\n",
       "      <td>7</td>\n",
       "      <td>5</td>\n",
       "      <td>0</td>\n",
       "    </tr>\n",
       "    <tr>\n",
       "      <th>1</th>\n",
       "      <td>3042</td>\n",
       "      <td>-7.600902</td>\n",
       "      <td>-1.869505</td>\n",
       "      <td>16.600</td>\n",
       "      <td>7</td>\n",
       "      <td>5</td>\n",
       "      <td>0</td>\n",
       "    </tr>\n",
       "    <tr>\n",
       "      <th>2</th>\n",
       "      <td>2600</td>\n",
       "      <td>-8.111728</td>\n",
       "      <td>-2.282782</td>\n",
       "      <td>18.700</td>\n",
       "      <td>7</td>\n",
       "      <td>5</td>\n",
       "      <td>0</td>\n",
       "    </tr>\n",
       "    <tr>\n",
       "      <th>3</th>\n",
       "      <td>2800</td>\n",
       "      <td>-8.517193</td>\n",
       "      <td>-1.832581</td>\n",
       "      <td>16.650</td>\n",
       "      <td>7</td>\n",
       "      <td>5</td>\n",
       "      <td>0</td>\n",
       "    </tr>\n",
       "    <tr>\n",
       "      <th>4</th>\n",
       "      <td>1939</td>\n",
       "      <td>-8.888257</td>\n",
       "      <td>-2.273026</td>\n",
       "      <td>20.060</td>\n",
       "      <td>7</td>\n",
       "      <td>5</td>\n",
       "      <td>0</td>\n",
       "    </tr>\n",
       "    <tr>\n",
       "      <th>5</th>\n",
       "      <td>2840</td>\n",
       "      <td>-7.338538</td>\n",
       "      <td>-2.207275</td>\n",
       "      <td>16.980</td>\n",
       "      <td>7</td>\n",
       "      <td>5</td>\n",
       "      <td>0</td>\n",
       "    </tr>\n",
       "    <tr>\n",
       "      <th>6</th>\n",
       "      <td>2637</td>\n",
       "      <td>-7.222466</td>\n",
       "      <td>-2.063568</td>\n",
       "      <td>17.220</td>\n",
       "      <td>7</td>\n",
       "      <td>5</td>\n",
       "      <td>0</td>\n",
       "    </tr>\n",
       "    <tr>\n",
       "      <th>7</th>\n",
       "      <td>2600</td>\n",
       "      <td>-7.824046</td>\n",
       "      <td>-2.343407</td>\n",
       "      <td>17.400</td>\n",
       "      <td>7</td>\n",
       "      <td>5</td>\n",
       "      <td>0</td>\n",
       "    </tr>\n",
       "    <tr>\n",
       "      <th>8</th>\n",
       "      <td>2650</td>\n",
       "      <td>-7.278819</td>\n",
       "      <td>-2.207275</td>\n",
       "      <td>17.450</td>\n",
       "      <td>7</td>\n",
       "      <td>5</td>\n",
       "      <td>0</td>\n",
       "    </tr>\n",
       "    <tr>\n",
       "      <th>9</th>\n",
       "      <td>2700</td>\n",
       "      <td>-8.622554</td>\n",
       "      <td>-2.040221</td>\n",
       "      <td>16.050</td>\n",
       "      <td>7</td>\n",
       "      <td>5</td>\n",
       "      <td>0</td>\n",
       "    </tr>\n",
       "    <tr>\n",
       "      <th>10</th>\n",
       "      <td>3600</td>\n",
       "      <td>-5.843045</td>\n",
       "      <td>-0.673345</td>\n",
       "      <td>10.690</td>\n",
       "      <td>7</td>\n",
       "      <td>5</td>\n",
       "      <td>1</td>\n",
       "    </tr>\n",
       "    <tr>\n",
       "      <th>11</th>\n",
       "      <td>3129</td>\n",
       "      <td>-4.406319</td>\n",
       "      <td>-0.977900</td>\n",
       "      <td>11.790</td>\n",
       "      <td>7</td>\n",
       "      <td>5</td>\n",
       "      <td>1</td>\n",
       "    </tr>\n",
       "    <tr>\n",
       "      <th>12</th>\n",
       "      <td>3134</td>\n",
       "      <td>-7.824046</td>\n",
       "      <td>-1.629641</td>\n",
       "      <td>13.210</td>\n",
       "      <td>7</td>\n",
       "      <td>5</td>\n",
       "      <td>1</td>\n",
       "    </tr>\n",
       "    <tr>\n",
       "      <th>13</th>\n",
       "      <td>3628</td>\n",
       "      <td>-5.203007</td>\n",
       "      <td>-0.933946</td>\n",
       "      <td>10.480</td>\n",
       "      <td>7</td>\n",
       "      <td>5</td>\n",
       "      <td>1</td>\n",
       "    </tr>\n",
       "    <tr>\n",
       "      <th>14</th>\n",
       "      <td>2650</td>\n",
       "      <td>-7.418581</td>\n",
       "      <td>-1.966113</td>\n",
       "      <td>11.782</td>\n",
       "      <td>7</td>\n",
       "      <td>5</td>\n",
       "      <td>1</td>\n",
       "    </tr>\n",
       "    <tr>\n",
       "      <th>15</th>\n",
       "      <td>3340</td>\n",
       "      <td>-5.572754</td>\n",
       "      <td>-1.427116</td>\n",
       "      <td>13.070</td>\n",
       "      <td>7</td>\n",
       "      <td>5</td>\n",
       "      <td>1</td>\n",
       "    </tr>\n",
       "    <tr>\n",
       "      <th>16</th>\n",
       "      <td>2799</td>\n",
       "      <td>-6.319969</td>\n",
       "      <td>-1.832581</td>\n",
       "      <td>14.790</td>\n",
       "      <td>7</td>\n",
       "      <td>5</td>\n",
       "      <td>1</td>\n",
       "    </tr>\n",
       "    <tr>\n",
       "      <th>17</th>\n",
       "      <td>3692</td>\n",
       "      <td>-5.607564</td>\n",
       "      <td>-0.755023</td>\n",
       "      <td>10.800</td>\n",
       "      <td>7</td>\n",
       "      <td>5</td>\n",
       "      <td>1</td>\n",
       "    </tr>\n",
       "    <tr>\n",
       "      <th>18</th>\n",
       "      <td>3192</td>\n",
       "      <td>-5.621281</td>\n",
       "      <td>-1.626076</td>\n",
       "      <td>13.530</td>\n",
       "      <td>7</td>\n",
       "      <td>5</td>\n",
       "      <td>1</td>\n",
       "    </tr>\n",
       "    <tr>\n",
       "      <th>19</th>\n",
       "      <td>3441</td>\n",
       "      <td>-3.244194</td>\n",
       "      <td>-1.046969</td>\n",
       "      <td>11.180</td>\n",
       "      <td>7</td>\n",
       "      <td>5</td>\n",
       "      <td>1</td>\n",
       "    </tr>\n",
       "    <tr>\n",
       "      <th>20</th>\n",
       "      <td>25000</td>\n",
       "      <td>-2.882404</td>\n",
       "      <td>-4.779524</td>\n",
       "      <td>10.580</td>\n",
       "      <td>2</td>\n",
       "      <td>1</td>\n",
       "      <td>2</td>\n",
       "    </tr>\n",
       "    <tr>\n",
       "      <th>21</th>\n",
       "      <td>7740</td>\n",
       "      <td>-7.621105</td>\n",
       "      <td>-4.394909</td>\n",
       "      <td>14.020</td>\n",
       "      <td>8</td>\n",
       "      <td>0</td>\n",
       "      <td>2</td>\n",
       "    </tr>\n",
       "    <tr>\n",
       "      <th>22</th>\n",
       "      <td>7220</td>\n",
       "      <td>-8.679712</td>\n",
       "      <td>-4.509860</td>\n",
       "      <td>14.230</td>\n",
       "      <td>8</td>\n",
       "      <td>2</td>\n",
       "      <td>2</td>\n",
       "    </tr>\n",
       "    <tr>\n",
       "      <th>23</th>\n",
       "      <td>8500</td>\n",
       "      <td>-7.600902</td>\n",
       "      <td>-4.605170</td>\n",
       "      <td>14.500</td>\n",
       "      <td>8</td>\n",
       "      <td>0</td>\n",
       "      <td>2</td>\n",
       "    </tr>\n",
       "    <tr>\n",
       "      <th>24</th>\n",
       "      <td>16500</td>\n",
       "      <td>-4.342806</td>\n",
       "      <td>-4.268698</td>\n",
       "      <td>11.890</td>\n",
       "      <td>2</td>\n",
       "      <td>1</td>\n",
       "      <td>2</td>\n",
       "    </tr>\n",
       "    <tr>\n",
       "      <th>25</th>\n",
       "      <td>12990</td>\n",
       "      <td>-9.372859</td>\n",
       "      <td>-4.621300</td>\n",
       "      <td>12.230</td>\n",
       "      <td>9</td>\n",
       "      <td>2</td>\n",
       "      <td>2</td>\n",
       "    </tr>\n",
       "    <tr>\n",
       "      <th>26</th>\n",
       "      <td>8570</td>\n",
       "      <td>-7.118476</td>\n",
       "      <td>-4.635629</td>\n",
       "      <td>14.200</td>\n",
       "      <td>2</td>\n",
       "      <td>0</td>\n",
       "      <td>2</td>\n",
       "    </tr>\n",
       "    <tr>\n",
       "      <th>27</th>\n",
       "      <td>7700</td>\n",
       "      <td>-9.115030</td>\n",
       "      <td>-4.358310</td>\n",
       "      <td>14.470</td>\n",
       "      <td>9</td>\n",
       "      <td>2</td>\n",
       "      <td>2</td>\n",
       "    </tr>\n",
       "    <tr>\n",
       "      <th>28</th>\n",
       "      <td>11790</td>\n",
       "      <td>-8.804875</td>\n",
       "      <td>-4.509860</td>\n",
       "      <td>12.590</td>\n",
       "      <td>9</td>\n",
       "      <td>2</td>\n",
       "      <td>2</td>\n",
       "    </tr>\n",
       "    <tr>\n",
       "      <th>29</th>\n",
       "      <td>7230</td>\n",
       "      <td>-9.433484</td>\n",
       "      <td>-4.342806</td>\n",
       "      <td>14.080</td>\n",
       "      <td>6</td>\n",
       "      <td>2</td>\n",
       "      <td>2</td>\n",
       "    </tr>\n",
       "    <tr>\n",
       "      <th>30</th>\n",
       "      <td>39000</td>\n",
       "      <td>12.225875</td>\n",
       "      <td>2.360854</td>\n",
       "      <td>-4.700</td>\n",
       "      <td>0</td>\n",
       "      <td>6</td>\n",
       "      <td>3</td>\n",
       "    </tr>\n",
       "    <tr>\n",
       "      <th>31</th>\n",
       "      <td>30000</td>\n",
       "      <td>10.269519</td>\n",
       "      <td>1.840550</td>\n",
       "      <td>-4.200</td>\n",
       "      <td>2</td>\n",
       "      <td>1</td>\n",
       "      <td>3</td>\n",
       "    </tr>\n",
       "    <tr>\n",
       "      <th>32</th>\n",
       "      <td>15276</td>\n",
       "      <td>7.035269</td>\n",
       "      <td>1.974081</td>\n",
       "      <td>-1.970</td>\n",
       "      <td>2</td>\n",
       "      <td>1</td>\n",
       "      <td>3</td>\n",
       "    </tr>\n",
       "    <tr>\n",
       "      <th>33</th>\n",
       "      <td>9700</td>\n",
       "      <td>4.304065</td>\n",
       "      <td>1.061257</td>\n",
       "      <td>0.160</td>\n",
       "      <td>8</td>\n",
       "      <td>1</td>\n",
       "      <td>3</td>\n",
       "    </tr>\n",
       "    <tr>\n",
       "      <th>34</th>\n",
       "      <td>5800</td>\n",
       "      <td>-0.210721</td>\n",
       "      <td>-0.105361</td>\n",
       "      <td>5.050</td>\n",
       "      <td>9</td>\n",
       "      <td>2</td>\n",
       "      <td>3</td>\n",
       "    </tr>\n",
       "    <tr>\n",
       "      <th>35</th>\n",
       "      <td>8052</td>\n",
       "      <td>2.163323</td>\n",
       "      <td>0.587787</td>\n",
       "      <td>2.420</td>\n",
       "      <td>8</td>\n",
       "      <td>0</td>\n",
       "      <td>3</td>\n",
       "    </tr>\n",
       "    <tr>\n",
       "      <th>36</th>\n",
       "      <td>6757</td>\n",
       "      <td>0.357674</td>\n",
       "      <td>0.113329</td>\n",
       "      <td>2.410</td>\n",
       "      <td>9</td>\n",
       "      <td>2</td>\n",
       "      <td>3</td>\n",
       "    </tr>\n",
       "    <tr>\n",
       "      <th>37</th>\n",
       "      <td>6380</td>\n",
       "      <td>0.300105</td>\n",
       "      <td>-0.020203</td>\n",
       "      <td>2.930</td>\n",
       "      <td>9</td>\n",
       "      <td>2</td>\n",
       "      <td>3</td>\n",
       "    </tr>\n",
       "    <tr>\n",
       "      <th>38</th>\n",
       "      <td>5936</td>\n",
       "      <td>0.305276</td>\n",
       "      <td>0.100750</td>\n",
       "      <td>4.460</td>\n",
       "      <td>9</td>\n",
       "      <td>2</td>\n",
       "      <td>3</td>\n",
       "    </tr>\n",
       "    <tr>\n",
       "      <th>39</th>\n",
       "      <td>5587</td>\n",
       "      <td>-0.199671</td>\n",
       "      <td>-0.010050</td>\n",
       "      <td>5.030</td>\n",
       "      <td>9</td>\n",
       "      <td>2</td>\n",
       "      <td>3</td>\n",
       "    </tr>\n",
       "    <tr>\n",
       "      <th>40</th>\n",
       "      <td>3826</td>\n",
       "      <td>12.206073</td>\n",
       "      <td>2.944439</td>\n",
       "      <td>-6.930</td>\n",
       "      <td>7</td>\n",
       "      <td>5</td>\n",
       "      <td>4</td>\n",
       "    </tr>\n",
       "    <tr>\n",
       "      <th>41</th>\n",
       "      <td>3365</td>\n",
       "      <td>12.736701</td>\n",
       "      <td>3.135494</td>\n",
       "      <td>-6.200</td>\n",
       "      <td>7</td>\n",
       "      <td>5</td>\n",
       "      <td>4</td>\n",
       "    </tr>\n",
       "    <tr>\n",
       "      <th>42</th>\n",
       "      <td>3270</td>\n",
       "      <td>11.918391</td>\n",
       "      <td>4.477337</td>\n",
       "      <td>-6.020</td>\n",
       "      <td>7</td>\n",
       "      <td>5</td>\n",
       "      <td>4</td>\n",
       "    </tr>\n",
       "    <tr>\n",
       "      <th>43</th>\n",
       "      <td>3200</td>\n",
       "      <td>12.180755</td>\n",
       "      <td>2.833213</td>\n",
       "      <td>-7.220</td>\n",
       "      <td>7</td>\n",
       "      <td>5</td>\n",
       "      <td>4</td>\n",
       "    </tr>\n",
       "    <tr>\n",
       "      <th>44</th>\n",
       "      <td>3008</td>\n",
       "      <td>12.542545</td>\n",
       "      <td>3.218876</td>\n",
       "      <td>-6.000</td>\n",
       "      <td>7</td>\n",
       "      <td>5</td>\n",
       "      <td>4</td>\n",
       "    </tr>\n",
       "    <tr>\n",
       "      <th>45</th>\n",
       "      <td>3600</td>\n",
       "      <td>12.676076</td>\n",
       "      <td>3.367296</td>\n",
       "      <td>-6.600</td>\n",
       "      <td>7</td>\n",
       "      <td>5</td>\n",
       "      <td>4</td>\n",
       "    </tr>\n",
       "    <tr>\n",
       "      <th>46</th>\n",
       "      <td>3575</td>\n",
       "      <td>11.719940</td>\n",
       "      <td>3.806662</td>\n",
       "      <td>-6.780</td>\n",
       "      <td>7</td>\n",
       "      <td>5</td>\n",
       "      <td>4</td>\n",
       "    </tr>\n",
       "    <tr>\n",
       "      <th>47</th>\n",
       "      <td>3574</td>\n",
       "      <td>12.206073</td>\n",
       "      <td>4.488636</td>\n",
       "      <td>-5.240</td>\n",
       "      <td>7</td>\n",
       "      <td>5</td>\n",
       "      <td>4</td>\n",
       "    </tr>\n",
       "    <tr>\n",
       "      <th>48</th>\n",
       "      <td>3625</td>\n",
       "      <td>12.122691</td>\n",
       "      <td>4.430817</td>\n",
       "      <td>-6.740</td>\n",
       "      <td>7</td>\n",
       "      <td>5</td>\n",
       "      <td>4</td>\n",
       "    </tr>\n",
       "    <tr>\n",
       "      <th>49</th>\n",
       "      <td>33750</td>\n",
       "      <td>12.301383</td>\n",
       "      <td>3.258097</td>\n",
       "      <td>-6.100</td>\n",
       "      <td>0</td>\n",
       "      <td>1</td>\n",
       "      <td>4</td>\n",
       "    </tr>\n",
       "  </tbody>\n",
       "</table>\n",
       "</div>"
      ],
      "text/plain": [
       "    temperature  Ln(luminosity)    radius  absolute_magnitude  star_color  \\\n",
       "0          3068       -6.032287 -1.771957              16.120           7   \n",
       "1          3042       -7.600902 -1.869505              16.600           7   \n",
       "2          2600       -8.111728 -2.282782              18.700           7   \n",
       "3          2800       -8.517193 -1.832581              16.650           7   \n",
       "4          1939       -8.888257 -2.273026              20.060           7   \n",
       "5          2840       -7.338538 -2.207275              16.980           7   \n",
       "6          2637       -7.222466 -2.063568              17.220           7   \n",
       "7          2600       -7.824046 -2.343407              17.400           7   \n",
       "8          2650       -7.278819 -2.207275              17.450           7   \n",
       "9          2700       -8.622554 -2.040221              16.050           7   \n",
       "10         3600       -5.843045 -0.673345              10.690           7   \n",
       "11         3129       -4.406319 -0.977900              11.790           7   \n",
       "12         3134       -7.824046 -1.629641              13.210           7   \n",
       "13         3628       -5.203007 -0.933946              10.480           7   \n",
       "14         2650       -7.418581 -1.966113              11.782           7   \n",
       "15         3340       -5.572754 -1.427116              13.070           7   \n",
       "16         2799       -6.319969 -1.832581              14.790           7   \n",
       "17         3692       -5.607564 -0.755023              10.800           7   \n",
       "18         3192       -5.621281 -1.626076              13.530           7   \n",
       "19         3441       -3.244194 -1.046969              11.180           7   \n",
       "20        25000       -2.882404 -4.779524              10.580           2   \n",
       "21         7740       -7.621105 -4.394909              14.020           8   \n",
       "22         7220       -8.679712 -4.509860              14.230           8   \n",
       "23         8500       -7.600902 -4.605170              14.500           8   \n",
       "24        16500       -4.342806 -4.268698              11.890           2   \n",
       "25        12990       -9.372859 -4.621300              12.230           9   \n",
       "26         8570       -7.118476 -4.635629              14.200           2   \n",
       "27         7700       -9.115030 -4.358310              14.470           9   \n",
       "28        11790       -8.804875 -4.509860              12.590           9   \n",
       "29         7230       -9.433484 -4.342806              14.080           6   \n",
       "30        39000       12.225875  2.360854              -4.700           0   \n",
       "31        30000       10.269519  1.840550              -4.200           2   \n",
       "32        15276        7.035269  1.974081              -1.970           2   \n",
       "33         9700        4.304065  1.061257               0.160           8   \n",
       "34         5800       -0.210721 -0.105361               5.050           9   \n",
       "35         8052        2.163323  0.587787               2.420           8   \n",
       "36         6757        0.357674  0.113329               2.410           9   \n",
       "37         6380        0.300105 -0.020203               2.930           9   \n",
       "38         5936        0.305276  0.100750               4.460           9   \n",
       "39         5587       -0.199671 -0.010050               5.030           9   \n",
       "40         3826       12.206073  2.944439              -6.930           7   \n",
       "41         3365       12.736701  3.135494              -6.200           7   \n",
       "42         3270       11.918391  4.477337              -6.020           7   \n",
       "43         3200       12.180755  2.833213              -7.220           7   \n",
       "44         3008       12.542545  3.218876              -6.000           7   \n",
       "45         3600       12.676076  3.367296              -6.600           7   \n",
       "46         3575       11.719940  3.806662              -6.780           7   \n",
       "47         3574       12.206073  4.488636              -5.240           7   \n",
       "48         3625       12.122691  4.430817              -6.740           7   \n",
       "49        33750       12.301383  3.258097              -6.100           0   \n",
       "\n",
       "    spectral_class  star_type  \n",
       "0                5          0  \n",
       "1                5          0  \n",
       "2                5          0  \n",
       "3                5          0  \n",
       "4                5          0  \n",
       "5                5          0  \n",
       "6                5          0  \n",
       "7                5          0  \n",
       "8                5          0  \n",
       "9                5          0  \n",
       "10               5          1  \n",
       "11               5          1  \n",
       "12               5          1  \n",
       "13               5          1  \n",
       "14               5          1  \n",
       "15               5          1  \n",
       "16               5          1  \n",
       "17               5          1  \n",
       "18               5          1  \n",
       "19               5          1  \n",
       "20               1          2  \n",
       "21               0          2  \n",
       "22               2          2  \n",
       "23               0          2  \n",
       "24               1          2  \n",
       "25               2          2  \n",
       "26               0          2  \n",
       "27               2          2  \n",
       "28               2          2  \n",
       "29               2          2  \n",
       "30               6          3  \n",
       "31               1          3  \n",
       "32               1          3  \n",
       "33               1          3  \n",
       "34               2          3  \n",
       "35               0          3  \n",
       "36               2          3  \n",
       "37               2          3  \n",
       "38               2          3  \n",
       "39               2          3  \n",
       "40               5          4  \n",
       "41               5          4  \n",
       "42               5          4  \n",
       "43               5          4  \n",
       "44               5          4  \n",
       "45               5          4  \n",
       "46               5          4  \n",
       "47               5          4  \n",
       "48               5          4  \n",
       "49               1          4  "
      ]
     },
     "execution_count": 311,
     "metadata": {},
     "output_type": "execute_result"
    }
   ],
   "source": [
    "df1.head(50)"
   ]
  },
  {
   "cell_type": "code",
   "execution_count": 312,
   "id": "534f025f",
   "metadata": {},
   "outputs": [],
   "source": [
    "\"\"\"Voy a desbalancear las clases intencionalmente\"\"\"\n",
    "for i in range(12):\n",
    "    df1=df1.drop([random.randint(0,150)],axis=0)"
   ]
  },
  {
   "cell_type": "code",
   "execution_count": 313,
   "id": "b43dbd60",
   "metadata": {},
   "outputs": [],
   "source": [
    "def split_data(df1):\n",
    "    X = df1.loc[ : , df.columns != 'star_type']\n",
    "    y = df1['star_type'].astype('int')\n",
    "    return train_test_split(X, y, test_size=0.2, stratify=y, random_state = 123)"
   ]
  },
  {
   "cell_type": "code",
   "execution_count": 314,
   "id": "c9b1d201",
   "metadata": {},
   "outputs": [
    {
     "data": {
      "text/plain": [
       "<AxesSubplot:>"
      ]
     },
     "execution_count": 314,
     "metadata": {},
     "output_type": "execute_result"
    },
    {
     "data": {
      "image/png": "[encoded data removed]",
      "text/plain": [
       "<Figure size 432x288 with 1 Axes>"
      ]
     },
     "metadata": {
      "needs_background": "light"
     },
     "output_type": "display_data"
    }
   ],
   "source": [
    "#Las clases estand esbalanceadas \n",
    "df1[\"star_type\"].value_counts().plot.bar(color=['green', 'red', \"blue\", \"brown\", \"pink\", \"yellow\"])"
   ]
  },
  {
   "cell_type": "code",
   "execution_count": 315,
   "id": "cb456c12",
   "metadata": {},
   "outputs": [
    {
     "data": {
      "text/plain": [
       "<AxesSubplot:>"
      ]
     },
     "execution_count": 315,
     "metadata": {},
     "output_type": "execute_result"
    },
    {
     "data": {
      "image/png": "[encoded data removed]",
      "text/plain": [
       "<Figure size 432x288 with 1 Axes>"
      ]
     },
     "metadata": {
      "needs_background": "light"
     },
     "output_type": "display_data"
    }
   ],
   "source": [
    "#balanceo usando smote\n",
    "\n",
    "smote_sampler = SMOTE(random_state = 123)\n",
    "X_train, X_test, y_train, y_test = split_data(df1)\n",
    "X_smo, y_smo = smote_sampler.fit_resample(X_train, y_train)\n",
    "y_smo.value_counts().plot.bar(color=['green', 'red', \"blue\", \"brown\", \"pink\", \"yellow\"])"
   ]
  },
  {
   "cell_type": "code",
   "execution_count": 316,
   "id": "cdc1b6e9",
   "metadata": {},
   "outputs": [
    {
     "data": {
      "text/plain": [
       "<AxesSubplot:>"
      ]
     },
     "execution_count": 316,
     "metadata": {},
     "output_type": "execute_result"
    },
    {
     "data": {
      "image/png": "[encoded data removed]",
      "text/plain": [
       "<Figure size 720x720 with 2 Axes>"
      ]
     },
     "metadata": {
      "needs_background": "light"
     },
     "output_type": "display_data"
    }
   ],
   "source": [
    "#Corelacion \n",
    "plt.figure(figsize=(10, 10)) \n",
    "sns.heatmap(df1.corr(), annot=True, cmap='RdYlGn')"
   ]
  },
  {
   "cell_type": "code",
   "execution_count": 326,
   "id": "a3a3cbe4",
   "metadata": {},
   "outputs": [],
   "source": [
    "#Separo las caracteristicas mdel target\n",
    "feature_cols = df1.columns[:-1]\n",
    "correlacion = df1[feature_cols].corr()"
   ]
  },
  {
   "cell_type": "code",
   "execution_count": 327,
   "id": "e7427812",
   "metadata": {},
   "outputs": [
    {
     "data": {
      "text/html": [
       "<div>\n",
       "<style scoped>\n",
       "    .dataframe tbody tr th:only-of-type {\n",
       "        vertical-align: middle;\n",
       "    }\n",
       "\n",
       "    .dataframe tbody tr th {\n",
       "        vertical-align: top;\n",
       "    }\n",
       "\n",
       "    .dataframe thead th {\n",
       "        text-align: right;\n",
       "    }\n",
       "</style>\n",
       "<table border=\"1\" class=\"dataframe\">\n",
       "  <thead>\n",
       "    <tr style=\"text-align: right;\">\n",
       "      <th></th>\n",
       "      <th>temperature</th>\n",
       "      <th>Ln(luminosity)</th>\n",
       "      <th>radius</th>\n",
       "      <th>absolute_magnitude</th>\n",
       "      <th>star_color</th>\n",
       "      <th>spectral_class</th>\n",
       "    </tr>\n",
       "  </thead>\n",
       "  <tbody>\n",
       "    <tr>\n",
       "      <th>count</th>\n",
       "      <td>228.000000</td>\n",
       "      <td>228.000000</td>\n",
       "      <td>228.000000</td>\n",
       "      <td>228.000000</td>\n",
       "      <td>228.000000</td>\n",
       "      <td>228.000000</td>\n",
       "    </tr>\n",
       "    <tr>\n",
       "      <th>mean</th>\n",
       "      <td>10696.899123</td>\n",
       "      <td>1.553440</td>\n",
       "      <td>0.662881</td>\n",
       "      <td>4.410855</td>\n",
       "      <td>4.587719</td>\n",
       "      <td>3.719298</td>\n",
       "    </tr>\n",
       "    <tr>\n",
       "      <th>std</th>\n",
       "      <td>9564.990669</td>\n",
       "      <td>9.108010</td>\n",
       "      <td>3.964788</td>\n",
       "      <td>10.428979</td>\n",
       "      <td>3.260527</td>\n",
       "      <td>2.113555</td>\n",
       "    </tr>\n",
       "    <tr>\n",
       "      <th>min</th>\n",
       "      <td>1939.000000</td>\n",
       "      <td>-9.433484</td>\n",
       "      <td>-4.779524</td>\n",
       "      <td>-11.920000</td>\n",
       "      <td>0.000000</td>\n",
       "      <td>0.000000</td>\n",
       "    </tr>\n",
       "    <tr>\n",
       "      <th>25%</th>\n",
       "      <td>3360.000000</td>\n",
       "      <td>-7.038446</td>\n",
       "      <td>-2.317450</td>\n",
       "      <td>-6.232500</td>\n",
       "      <td>2.000000</td>\n",
       "      <td>1.000000</td>\n",
       "    </tr>\n",
       "    <tr>\n",
       "      <th>50%</th>\n",
       "      <td>6803.500000</td>\n",
       "      <td>-3.063299</td>\n",
       "      <td>-0.353877</td>\n",
       "      <td>10.150000</td>\n",
       "      <td>7.000000</td>\n",
       "      <td>5.000000</td>\n",
       "    </tr>\n",
       "    <tr>\n",
       "      <th>75%</th>\n",
       "      <td>15857.500000</td>\n",
       "      <td>12.196022</td>\n",
       "      <td>3.760413</td>\n",
       "      <td>13.564250</td>\n",
       "      <td>7.000000</td>\n",
       "      <td>5.000000</td>\n",
       "    </tr>\n",
       "    <tr>\n",
       "      <th>max</th>\n",
       "      <td>40000.000000</td>\n",
       "      <td>13.652309</td>\n",
       "      <td>7.574815</td>\n",
       "      <td>20.060000</td>\n",
       "      <td>9.000000</td>\n",
       "      <td>6.000000</td>\n",
       "    </tr>\n",
       "  </tbody>\n",
       "</table>\n",
       "</div>"
      ],
      "text/plain": [
       "        temperature  Ln(luminosity)      radius  absolute_magnitude  \\\n",
       "count    228.000000      228.000000  228.000000          228.000000   \n",
       "mean   10696.899123        1.553440    0.662881            4.410855   \n",
       "std     9564.990669        9.108010    3.964788           10.428979   \n",
       "min     1939.000000       -9.433484   -4.779524          -11.920000   \n",
       "25%     3360.000000       -7.038446   -2.317450           -6.232500   \n",
       "50%     6803.500000       -3.063299   -0.353877           10.150000   \n",
       "75%    15857.500000       12.196022    3.760413           13.564250   \n",
       "max    40000.000000       13.652309    7.574815           20.060000   \n",
       "\n",
       "       star_color  spectral_class  \n",
       "count  228.000000      228.000000  \n",
       "mean     4.587719        3.719298  \n",
       "std      3.260527        2.113555  \n",
       "min      0.000000        0.000000  \n",
       "25%      2.000000        1.000000  \n",
       "50%      7.000000        5.000000  \n",
       "75%      7.000000        5.000000  \n",
       "max      9.000000        6.000000  "
      ]
     },
     "execution_count": 327,
     "metadata": {},
     "output_type": "execute_result"
    }
   ],
   "source": [
    "#Veo que no esta escalada\n",
    "df1.iloc[:, :-1].describe()"
   ]
  },
  {
   "cell_type": "code",
   "execution_count": 328,
   "id": "e89ad9fa",
   "metadata": {},
   "outputs": [],
   "source": [
    "#uso StandardScaler para reescalar los datos\n",
    "#Estandarice las características eliminando la media y escalando a la varianza de la unidad.\n",
    "\n",
    "X_raw = df1.iloc[:, :-1] #caratcteristicas\n",
    "y_raw = df1.iloc[:, -1:] #target\n",
    "scaler = StandardScaler()\n",
    "X = scaler.fit_transform(X_raw)"
   ]
  },
  {
   "cell_type": "code",
   "execution_count": 329,
   "id": "16c8e188",
   "metadata": {},
   "outputs": [],
   "source": [
    "#Separacion en grupos train test\n",
    "X_train, X_test, y_train, y_test = train_test_split(X, y_raw, test_size=0.2, stratify=y_raw, random_state = 123)"
   ]
  },
  {
   "cell_type": "code",
   "execution_count": 331,
   "id": "db7f9cfc",
   "metadata": {},
   "outputs": [
    {
     "name": "stdout",
     "output_type": "stream",
     "text": [
      "CPU times: total: 0 ns\n",
      "Wall time: 3 ms\n"
     ]
    },
    {
     "name": "stderr",
     "output_type": "stream",
     "text": [
      "C:\\Users\\cfzap\\anaconda3\\lib\\site-packages\\sklearn\\utils\\validation.py:1111: DataConversionWarning: A column-vector y was passed when a 1d array was expected. Please change the shape of y to (n_samples, ), for example using ravel().\n",
      "  y = column_or_1d(y, warn=True)\n"
     ]
    }
   ],
   "source": [
    "#reg_log usando funcion por defecto\n",
    "%time lr = LogisticRegression(solver='liblinear').fit(X_train, y_train)"
   ]
  },
  {
   "cell_type": "code",
   "execution_count": 332,
   "id": "2dba1961",
   "metadata": {},
   "outputs": [
    {
     "name": "stderr",
     "output_type": "stream",
     "text": [
      "C:\\Users\\cfzap\\anaconda3\\lib\\site-packages\\sklearn\\utils\\validation.py:1111: DataConversionWarning: A column-vector y was passed when a 1d array was expected. Please change the shape of y to (n_samples, ), for example using ravel().\n",
      "  y = column_or_1d(y, warn=True)\n",
      "[Parallel(n_jobs=-1)]: Using backend LokyBackend with 3 concurrent workers.\n"
     ]
    },
    {
     "name": "stdout",
     "output_type": "stream",
     "text": [
      "CPU times: total: 78.1 ms\n",
      "Wall time: 1.37 s\n"
     ]
    },
    {
     "name": "stderr",
     "output_type": "stream",
     "text": [
      "[Parallel(n_jobs=-1)]: Done  24 out of  24 | elapsed:    1.2s finished\n"
     ]
    }
   ],
   "source": [
    "#Reg_log con Cv y penalidad\n",
    "%time lr_l1 = LogisticRegressionCV(Cs=10, cv=4, penalty='l1', solver='liblinear', verbose=1, n_jobs=-1).fit(X_train, y_train)"
   ]
  },
  {
   "cell_type": "code",
   "execution_count": 333,
   "id": "70f5bf63",
   "metadata": {},
   "outputs": [],
   "source": [
    "pickle.dump(lr_l1, open('Modelo_reg_log_Lasso.p', 'wb'))\n",
    "LASSO = pickle.load(open('Modelo_reg_log_Lasso.p', 'rb'))"
   ]
  },
  {
   "cell_type": "code",
   "execution_count": 334,
   "id": "cb73ee63",
   "metadata": {},
   "outputs": [
    {
     "data": {
      "text/plain": [
       "True"
      ]
     },
     "execution_count": 334,
     "metadata": {},
     "output_type": "execute_result"
    }
   ],
   "source": [
    "(lr_l1.predict(X_test)==LASSO.predict(X_test)).all()"
   ]
  },
  {
   "cell_type": "code",
   "execution_count": 335,
   "id": "48108ff1",
   "metadata": {},
   "outputs": [
    {
     "name": "stderr",
     "output_type": "stream",
     "text": [
      "C:\\Users\\cfzap\\anaconda3\\lib\\site-packages\\sklearn\\utils\\validation.py:1111: DataConversionWarning: A column-vector y was passed when a 1d array was expected. Please change the shape of y to (n_samples, ), for example using ravel().\n",
      "  y = column_or_1d(y, warn=True)\n",
      "[Parallel(n_jobs=-1)]: Using backend LokyBackend with 3 concurrent workers.\n",
      "[Parallel(n_jobs=-1)]: Done  24 out of  24 | elapsed:    0.1s finished\n"
     ]
    },
    {
     "name": "stdout",
     "output_type": "stream",
     "text": [
      "CPU times: total: 78.1 ms\n",
      "Wall time: 195 ms\n"
     ]
    }
   ],
   "source": [
    "%time lr_l2 = LogisticRegressionCV(Cs=10, cv=4, penalty='l2', solver='liblinear', verbose=1, n_jobs=-1).fit(X_train, y_train)"
   ]
  },
  {
   "cell_type": "code",
   "execution_count": 336,
   "id": "77b16365",
   "metadata": {},
   "outputs": [
    {
     "name": "stdout",
     "output_type": "stream",
     "text": [
      "CPU times: total: 0 ns\n",
      "Wall time: 1 ms\n"
     ]
    }
   ],
   "source": [
    "%time gs = GridSearchCV(LogisticRegression(max_iter=10000, tol=0.1), param_grid = {\"C\": np.logspace(-4,4,10)}, verbose=1, n_jobs=-1)"
   ]
  },
  {
   "cell_type": "code",
   "execution_count": 337,
   "id": "f0ed4a10",
   "metadata": {},
   "outputs": [
    {
     "name": "stdout",
     "output_type": "stream",
     "text": [
      "Fitting 5 folds for each of 10 candidates, totalling 50 fits\n",
      "CPU times: total: 125 ms\n",
      "Wall time: 284 ms\n"
     ]
    },
    {
     "name": "stderr",
     "output_type": "stream",
     "text": [
      "C:\\Users\\cfzap\\anaconda3\\lib\\site-packages\\sklearn\\utils\\validation.py:1111: DataConversionWarning: A column-vector y was passed when a 1d array was expected. Please change the shape of y to (n_samples, ), for example using ravel().\n",
      "  y = column_or_1d(y, warn=True)\n"
     ]
    },
    {
     "data": {
      "text/html": [
       "<style>#sk-container-id-5 {color: black;background-color: white;}#sk-container-id-5 pre{padding: 0;}#sk-container-id-5 div.sk-toggleable {background-color: white;}#sk-container-id-5 label.sk-toggleable__label {cursor: pointer;display: block;width: 100%;margin-bottom: 0;padding: 0.3em;box-sizing: border-box;text-align: center;}#sk-container-id-5 label.sk-toggleable__label-arrow:before {content: \"▸\";float: left;margin-right: 0.25em;color: #696969;}#sk-container-id-5 label.sk-toggleable__label-arrow:hover:before {color: black;}#sk-container-id-5 div.sk-estimator:hover label.sk-toggleable__label-arrow:before {color: black;}#sk-container-id-5 div.sk-toggleable__content {max-height: 0;max-width: 0;overflow: hidden;text-align: left;background-color: #f0f8ff;}#sk-container-id-5 div.sk-toggleable__content pre {margin: 0.2em;color: black;border-radius: 0.25em;background-color: #f0f8ff;}#sk-container-id-5 input.sk-toggleable__control:checked~div.sk-toggleable__content {max-height: 200px;max-width: 100%;overflow: auto;}#sk-container-id-5 input.sk-toggleable__control:checked~label.sk-toggleable__label-arrow:before {content: \"▾\";}#sk-container-id-5 div.sk-estimator input.sk-toggleable__control:checked~label.sk-toggleable__label {background-color: #d4ebff;}#sk-container-id-5 div.sk-label input.sk-toggleable__control:checked~label.sk-toggleable__label {background-color: #d4ebff;}#sk-container-id-5 input.sk-hidden--visually {border: 0;clip: rect(1px 1px 1px 1px);clip: rect(1px, 1px, 1px, 1px);height: 1px;margin: -1px;overflow: hidden;padding: 0;position: absolute;width: 1px;}#sk-container-id-5 div.sk-estimator {font-family: monospace;background-color: #f0f8ff;border: 1px dotted black;border-radius: 0.25em;box-sizing: border-box;margin-bottom: 0.5em;}#sk-container-id-5 div.sk-estimator:hover {background-color: #d4ebff;}#sk-container-id-5 div.sk-parallel-item::after {content: \"\";width: 100%;border-bottom: 1px solid gray;flex-grow: 1;}#sk-container-id-5 div.sk-label:hover label.sk-toggleable__label {background-color: #d4ebff;}#sk-container-id-5 div.sk-serial::before {content: \"\";position: absolute;border-left: 1px solid gray;box-sizing: border-box;top: 0;bottom: 0;left: 50%;z-index: 0;}#sk-container-id-5 div.sk-serial {display: flex;flex-direction: column;align-items: center;background-color: white;padding-right: 0.2em;padding-left: 0.2em;position: relative;}#sk-container-id-5 div.sk-item {position: relative;z-index: 1;}#sk-container-id-5 div.sk-parallel {display: flex;align-items: stretch;justify-content: center;background-color: white;position: relative;}#sk-container-id-5 div.sk-item::before, #sk-container-id-5 div.sk-parallel-item::before {content: \"\";position: absolute;border-left: 1px solid gray;box-sizing: border-box;top: 0;bottom: 0;left: 50%;z-index: -1;}#sk-container-id-5 div.sk-parallel-item {display: flex;flex-direction: column;z-index: 1;position: relative;background-color: white;}#sk-container-id-5 div.sk-parallel-item:first-child::after {align-self: flex-end;width: 50%;}#sk-container-id-5 div.sk-parallel-item:last-child::after {align-self: flex-start;width: 50%;}#sk-container-id-5 div.sk-parallel-item:only-child::after {width: 0;}#sk-container-id-5 div.sk-dashed-wrapped {border: 1px dashed gray;margin: 0 0.4em 0.5em 0.4em;box-sizing: border-box;padding-bottom: 0.4em;background-color: white;}#sk-container-id-5 div.sk-label label {font-family: monospace;font-weight: bold;display: inline-block;line-height: 1.2em;}#sk-container-id-5 div.sk-label-container {text-align: center;}#sk-container-id-5 div.sk-container {/* jupyter's `normalize.less` sets `[hidden] { display: none; }` but bootstrap.min.css set `[hidden] { display: none !important; }` so we also need the `!important` here to be able to override the default hidden behavior on the sphinx rendered scikit-learn.org. See: https://github.com/scikit-learn/scikit-learn/issues/21755 */display: inline-block !important;position: relative;}#sk-container-id-5 div.sk-text-repr-fallback {display: none;}</style><div id=\"sk-container-id-5\" class=\"sk-top-container\"><div class=\"sk-text-repr-fallback\"><pre>GridSearchCV(estimator=LogisticRegression(max_iter=10000, tol=0.1), n_jobs=-1,\n",
       "             param_grid={&#x27;C&#x27;: array([1.00000000e-04, 7.74263683e-04, 5.99484250e-03, 4.64158883e-02,\n",
       "       3.59381366e-01, 2.78255940e+00, 2.15443469e+01, 1.66810054e+02,\n",
       "       1.29154967e+03, 1.00000000e+04])},\n",
       "             verbose=1)</pre><b>In a Jupyter environment, please rerun this cell to show the HTML representation or trust the notebook. <br />On GitHub, the HTML representation is unable to render, please try loading this page with nbviewer.org.</b></div><div class=\"sk-container\" hidden><div class=\"sk-item sk-dashed-wrapped\"><div class=\"sk-label-container\"><div class=\"sk-label sk-toggleable\"><input class=\"sk-toggleable__control sk-hidden--visually\" id=\"sk-estimator-id-13\" type=\"checkbox\" ><label for=\"sk-estimator-id-13\" class=\"sk-toggleable__label sk-toggleable__label-arrow\">GridSearchCV</label><div class=\"sk-toggleable__content\"><pre>GridSearchCV(estimator=LogisticRegression(max_iter=10000, tol=0.1), n_jobs=-1,\n",
       "             param_grid={&#x27;C&#x27;: array([1.00000000e-04, 7.74263683e-04, 5.99484250e-03, 4.64158883e-02,\n",
       "       3.59381366e-01, 2.78255940e+00, 2.15443469e+01, 1.66810054e+02,\n",
       "       1.29154967e+03, 1.00000000e+04])},\n",
       "             verbose=1)</pre></div></div></div><div class=\"sk-parallel\"><div class=\"sk-parallel-item\"><div class=\"sk-item\"><div class=\"sk-label-container\"><div class=\"sk-label sk-toggleable\"><input class=\"sk-toggleable__control sk-hidden--visually\" id=\"sk-estimator-id-14\" type=\"checkbox\" ><label for=\"sk-estimator-id-14\" class=\"sk-toggleable__label sk-toggleable__label-arrow\">estimator: LogisticRegression</label><div class=\"sk-toggleable__content\"><pre>LogisticRegression(max_iter=10000, tol=0.1)</pre></div></div></div><div class=\"sk-serial\"><div class=\"sk-item\"><div class=\"sk-estimator sk-toggleable\"><input class=\"sk-toggleable__control sk-hidden--visually\" id=\"sk-estimator-id-15\" type=\"checkbox\" ><label for=\"sk-estimator-id-15\" class=\"sk-toggleable__label sk-toggleable__label-arrow\">LogisticRegression</label><div class=\"sk-toggleable__content\"><pre>LogisticRegression(max_iter=10000, tol=0.1)</pre></div></div></div></div></div></div></div></div></div></div>"
      ],
      "text/plain": [
       "GridSearchCV(estimator=LogisticRegression(max_iter=10000, tol=0.1), n_jobs=-1,\n",
       "             param_grid={'C': array([1.00000000e-04, 7.74263683e-04, 5.99484250e-03, 4.64158883e-02,\n",
       "       3.59381366e-01, 2.78255940e+00, 2.15443469e+01, 1.66810054e+02,\n",
       "       1.29154967e+03, 1.00000000e+04])},\n",
       "             verbose=1)"
      ]
     },
     "execution_count": 337,
     "metadata": {},
     "output_type": "execute_result"
    }
   ],
   "source": [
    "#parametros usando gridsearchsv\n",
    "%time gs.fit(X_train, y_train);"
   ]
  },
  {
   "cell_type": "code",
   "execution_count": 338,
   "id": "d93ab84e",
   "metadata": {},
   "outputs": [],
   "source": [
    "pickle.dump(lr_l2, open('Modelo_reg_log_Ridge.p', 'wb'))\n",
    "pickle.dump(gs, open('Modelo_reg_log_GS.p', 'wb'))"
   ]
  },
  {
   "cell_type": "code",
   "execution_count": 339,
   "id": "fb65fb8b",
   "metadata": {},
   "outputs": [],
   "source": [
    "LASSO = pickle.load(open('Modelo_reg_log_Lasso.p', 'rb'))\n",
    "RIDGE = pickle.load(open('Modelo_reg_log_Ridge.p', 'rb'))\n",
    "GS = pickle.load(open('Modelo_reg_log_GS.p', 'rb'))"
   ]
  },
  {
   "cell_type": "code",
   "execution_count": 340,
   "id": "b567938f",
   "metadata": {},
   "outputs": [
    {
     "data": {
      "text/plain": [
       "{'C': 166.81005372000558}"
      ]
     },
     "execution_count": 340,
     "metadata": {},
     "output_type": "execute_result"
    }
   ],
   "source": [
    "#mejor parametro gs\n",
    "GS.best_params_"
   ]
  },
  {
   "cell_type": "code",
   "execution_count": 341,
   "id": "c49bc083",
   "metadata": {},
   "outputs": [
    {
     "data": {
      "text/plain": [
       "array([ 0.35938137, 21.5443469 ,  0.35938137, 21.5443469 , 21.5443469 ,\n",
       "        0.04641589])"
      ]
     },
     "execution_count": 341,
     "metadata": {},
     "output_type": "execute_result"
    }
   ],
   "source": [
    "#mejor parametro lasso\n",
    "LASSO.C_"
   ]
  },
  {
   "cell_type": "code",
   "execution_count": 342,
   "id": "0a6b6d5b",
   "metadata": {},
   "outputs": [
    {
     "data": {
      "text/plain": [
       "array([3.59381366e-01, 1.29154967e+03, 4.64158883e-02, 1.00000000e-04,\n",
       "       1.66810054e+02, 2.78255940e+00])"
      ]
     },
     "execution_count": 342,
     "metadata": {},
     "output_type": "execute_result"
    }
   ],
   "source": [
    "#mejor parametro ridge\n",
    "RIDGE.C_"
   ]
  },
  {
   "cell_type": "code",
   "execution_count": 343,
   "id": "d8cbc02f",
   "metadata": {},
   "outputs": [
    {
     "data": {
      "text/html": [
       "<div>\n",
       "<style scoped>\n",
       "    .dataframe tbody tr th:only-of-type {\n",
       "        vertical-align: middle;\n",
       "    }\n",
       "\n",
       "    .dataframe tbody tr th {\n",
       "        vertical-align: top;\n",
       "    }\n",
       "\n",
       "    .dataframe thead th {\n",
       "        text-align: right;\n",
       "    }\n",
       "</style>\n",
       "<table border=\"1\" class=\"dataframe\">\n",
       "  <thead>\n",
       "    <tr style=\"text-align: right;\">\n",
       "      <th></th>\n",
       "      <th>lr</th>\n",
       "      <th>l1</th>\n",
       "      <th>l2</th>\n",
       "      <th>gs</th>\n",
       "    </tr>\n",
       "  </thead>\n",
       "  <tbody>\n",
       "    <tr>\n",
       "      <th>38</th>\n",
       "      <td>0</td>\n",
       "      <td>0</td>\n",
       "      <td>3</td>\n",
       "      <td>1</td>\n",
       "    </tr>\n",
       "    <tr>\n",
       "      <th>42</th>\n",
       "      <td>1</td>\n",
       "      <td>5</td>\n",
       "      <td>3</td>\n",
       "      <td>3</td>\n",
       "    </tr>\n",
       "    <tr>\n",
       "      <th>7</th>\n",
       "      <td>3</td>\n",
       "      <td>3</td>\n",
       "      <td>3</td>\n",
       "      <td>3</td>\n",
       "    </tr>\n",
       "    <tr>\n",
       "      <th>37</th>\n",
       "      <td>2</td>\n",
       "      <td>2</td>\n",
       "      <td>2</td>\n",
       "      <td>2</td>\n",
       "    </tr>\n",
       "    <tr>\n",
       "      <th>32</th>\n",
       "      <td>4</td>\n",
       "      <td>4</td>\n",
       "      <td>4</td>\n",
       "      <td>4</td>\n",
       "    </tr>\n",
       "    <tr>\n",
       "      <th>23</th>\n",
       "      <td>5</td>\n",
       "      <td>5</td>\n",
       "      <td>5</td>\n",
       "      <td>5</td>\n",
       "    </tr>\n",
       "    <tr>\n",
       "      <th>15</th>\n",
       "      <td>4</td>\n",
       "      <td>4</td>\n",
       "      <td>4</td>\n",
       "      <td>4</td>\n",
       "    </tr>\n",
       "    <tr>\n",
       "      <th>30</th>\n",
       "      <td>4</td>\n",
       "      <td>4</td>\n",
       "      <td>4</td>\n",
       "      <td>4</td>\n",
       "    </tr>\n",
       "    <tr>\n",
       "      <th>17</th>\n",
       "      <td>0</td>\n",
       "      <td>0</td>\n",
       "      <td>0</td>\n",
       "      <td>0</td>\n",
       "    </tr>\n",
       "    <tr>\n",
       "      <th>29</th>\n",
       "      <td>2</td>\n",
       "      <td>2</td>\n",
       "      <td>2</td>\n",
       "      <td>2</td>\n",
       "    </tr>\n",
       "  </tbody>\n",
       "</table>\n",
       "</div>"
      ],
      "text/plain": [
       "    lr  l1  l2  gs\n",
       "38   0   0   3   1\n",
       "42   1   5   3   3\n",
       "7    3   3   3   3\n",
       "37   2   2   2   2\n",
       "32   4   4   4   4\n",
       "23   5   5   5   5\n",
       "15   4   4   4   4\n",
       "30   4   4   4   4\n",
       "17   0   0   0   0\n",
       "29   2   2   2   2"
      ]
     },
     "execution_count": 343,
     "metadata": {},
     "output_type": "execute_result"
    }
   ],
   "source": [
    "y_pred = list()\n",
    "y_prob = list()\n",
    "\n",
    "coeff_labels = ['lr', 'l1', 'l2', 'gs']\n",
    "coeff_models = [lr, LASSO, RIDGE, GS]\n",
    "\n",
    "for lab,mod in zip(coeff_labels, coeff_models):\n",
    "    y_pred.append(pd.Series(mod.predict(X_test), name=lab))\n",
    "    y_prob.append(pd.Series(mod.predict_proba(X_test).max(axis=1), name=lab))\n",
    "    \n",
    "y_pred = pd.concat(y_pred, axis=1)\n",
    "y_prob = pd.concat(y_prob, axis=1)\n",
    "\n",
    "y_pred.sample(10, random_state=12)"
   ]
  },
  {
   "cell_type": "code",
   "execution_count": 344,
   "id": "20fcde78",
   "metadata": {},
   "outputs": [
    {
     "data": {
      "text/html": [
       "<div>\n",
       "<style scoped>\n",
       "    .dataframe tbody tr th:only-of-type {\n",
       "        vertical-align: middle;\n",
       "    }\n",
       "\n",
       "    .dataframe tbody tr th {\n",
       "        vertical-align: top;\n",
       "    }\n",
       "\n",
       "    .dataframe thead th {\n",
       "        text-align: right;\n",
       "    }\n",
       "</style>\n",
       "<table border=\"1\" class=\"dataframe\">\n",
       "  <thead>\n",
       "    <tr style=\"text-align: right;\">\n",
       "      <th></th>\n",
       "      <th>lr</th>\n",
       "      <th>l1</th>\n",
       "      <th>l2</th>\n",
       "      <th>gs</th>\n",
       "    </tr>\n",
       "  </thead>\n",
       "  <tbody>\n",
       "    <tr>\n",
       "      <th>38</th>\n",
       "      <td>0.443831</td>\n",
       "      <td>0.410077</td>\n",
       "      <td>0.328121</td>\n",
       "      <td>0.963053</td>\n",
       "    </tr>\n",
       "    <tr>\n",
       "      <th>42</th>\n",
       "      <td>0.396027</td>\n",
       "      <td>0.712831</td>\n",
       "      <td>0.574672</td>\n",
       "      <td>0.989825</td>\n",
       "    </tr>\n",
       "    <tr>\n",
       "      <th>7</th>\n",
       "      <td>0.701750</td>\n",
       "      <td>0.673319</td>\n",
       "      <td>0.511701</td>\n",
       "      <td>0.999999</td>\n",
       "    </tr>\n",
       "    <tr>\n",
       "      <th>37</th>\n",
       "      <td>0.593382</td>\n",
       "      <td>0.510607</td>\n",
       "      <td>0.520205</td>\n",
       "      <td>0.999994</td>\n",
       "    </tr>\n",
       "    <tr>\n",
       "      <th>32</th>\n",
       "      <td>0.722935</td>\n",
       "      <td>0.667153</td>\n",
       "      <td>0.557892</td>\n",
       "      <td>0.995543</td>\n",
       "    </tr>\n",
       "    <tr>\n",
       "      <th>23</th>\n",
       "      <td>0.719443</td>\n",
       "      <td>0.911724</td>\n",
       "      <td>0.609694</td>\n",
       "      <td>0.997505</td>\n",
       "    </tr>\n",
       "    <tr>\n",
       "      <th>15</th>\n",
       "      <td>0.478679</td>\n",
       "      <td>0.488452</td>\n",
       "      <td>0.585683</td>\n",
       "      <td>0.997571</td>\n",
       "    </tr>\n",
       "    <tr>\n",
       "      <th>30</th>\n",
       "      <td>0.852139</td>\n",
       "      <td>0.701804</td>\n",
       "      <td>0.600270</td>\n",
       "      <td>0.996483</td>\n",
       "    </tr>\n",
       "    <tr>\n",
       "      <th>17</th>\n",
       "      <td>0.605472</td>\n",
       "      <td>0.744646</td>\n",
       "      <td>0.451415</td>\n",
       "      <td>0.999944</td>\n",
       "    </tr>\n",
       "    <tr>\n",
       "      <th>29</th>\n",
       "      <td>0.612053</td>\n",
       "      <td>0.602443</td>\n",
       "      <td>0.472494</td>\n",
       "      <td>0.999984</td>\n",
       "    </tr>\n",
       "    <tr>\n",
       "      <th>14</th>\n",
       "      <td>0.693022</td>\n",
       "      <td>0.801503</td>\n",
       "      <td>0.583374</td>\n",
       "      <td>0.992217</td>\n",
       "    </tr>\n",
       "    <tr>\n",
       "      <th>28</th>\n",
       "      <td>0.483025</td>\n",
       "      <td>0.504297</td>\n",
       "      <td>0.359832</td>\n",
       "      <td>0.995538</td>\n",
       "    </tr>\n",
       "    <tr>\n",
       "      <th>20</th>\n",
       "      <td>0.708069</td>\n",
       "      <td>0.897898</td>\n",
       "      <td>0.630910</td>\n",
       "      <td>0.999703</td>\n",
       "    </tr>\n",
       "    <tr>\n",
       "      <th>9</th>\n",
       "      <td>0.586476</td>\n",
       "      <td>0.665110</td>\n",
       "      <td>0.470036</td>\n",
       "      <td>0.999381</td>\n",
       "    </tr>\n",
       "    <tr>\n",
       "      <th>44</th>\n",
       "      <td>0.619365</td>\n",
       "      <td>0.626235</td>\n",
       "      <td>0.478690</td>\n",
       "      <td>0.999993</td>\n",
       "    </tr>\n",
       "  </tbody>\n",
       "</table>\n",
       "</div>"
      ],
      "text/plain": [
       "          lr        l1        l2        gs\n",
       "38  0.443831  0.410077  0.328121  0.963053\n",
       "42  0.396027  0.712831  0.574672  0.989825\n",
       "7   0.701750  0.673319  0.511701  0.999999\n",
       "37  0.593382  0.510607  0.520205  0.999994\n",
       "32  0.722935  0.667153  0.557892  0.995543\n",
       "23  0.719443  0.911724  0.609694  0.997505\n",
       "15  0.478679  0.488452  0.585683  0.997571\n",
       "30  0.852139  0.701804  0.600270  0.996483\n",
       "17  0.605472  0.744646  0.451415  0.999944\n",
       "29  0.612053  0.602443  0.472494  0.999984\n",
       "14  0.693022  0.801503  0.583374  0.992217\n",
       "28  0.483025  0.504297  0.359832  0.995538\n",
       "20  0.708069  0.897898  0.630910  0.999703\n",
       "9   0.586476  0.665110  0.470036  0.999381\n",
       "44  0.619365  0.626235  0.478690  0.999993"
      ]
     },
     "execution_count": 344,
     "metadata": {},
     "output_type": "execute_result"
    }
   ],
   "source": [
    "y_prob.sample(15, random_state=12)"
   ]
  },
  {
   "cell_type": "code",
   "execution_count": 345,
   "id": "1bcfde8b",
   "metadata": {},
   "outputs": [
    {
     "data": {
      "text/html": [
       "<div>\n",
       "<style scoped>\n",
       "    .dataframe tbody tr th:only-of-type {\n",
       "        vertical-align: middle;\n",
       "    }\n",
       "\n",
       "    .dataframe tbody tr th {\n",
       "        vertical-align: top;\n",
       "    }\n",
       "\n",
       "    .dataframe thead th {\n",
       "        text-align: right;\n",
       "    }\n",
       "</style>\n",
       "<table border=\"1\" class=\"dataframe\">\n",
       "  <thead>\n",
       "    <tr style=\"text-align: right;\">\n",
       "      <th></th>\n",
       "      <th>lr</th>\n",
       "      <th>l1</th>\n",
       "      <th>l2</th>\n",
       "      <th>gs</th>\n",
       "    </tr>\n",
       "  </thead>\n",
       "  <tbody>\n",
       "    <tr>\n",
       "      <th>precision</th>\n",
       "      <td>0.912655</td>\n",
       "      <td>0.915459</td>\n",
       "      <td>0.927724</td>\n",
       "      <td>0.980676</td>\n",
       "    </tr>\n",
       "    <tr>\n",
       "      <th>recall</th>\n",
       "      <td>0.913043</td>\n",
       "      <td>0.913043</td>\n",
       "      <td>0.913043</td>\n",
       "      <td>0.978261</td>\n",
       "    </tr>\n",
       "    <tr>\n",
       "      <th>fscore</th>\n",
       "      <td>0.911594</td>\n",
       "      <td>0.912847</td>\n",
       "      <td>0.914346</td>\n",
       "      <td>0.978064</td>\n",
       "    </tr>\n",
       "    <tr>\n",
       "      <th>accuracy</th>\n",
       "      <td>0.913043</td>\n",
       "      <td>0.913043</td>\n",
       "      <td>0.913043</td>\n",
       "      <td>0.978261</td>\n",
       "    </tr>\n",
       "    <tr>\n",
       "      <th>auc</th>\n",
       "      <td>0.948043</td>\n",
       "      <td>0.947706</td>\n",
       "      <td>0.947368</td>\n",
       "      <td>0.986842</td>\n",
       "    </tr>\n",
       "  </tbody>\n",
       "</table>\n",
       "</div>"
      ],
      "text/plain": [
       "                 lr        l1        l2        gs\n",
       "precision  0.912655  0.915459  0.927724  0.980676\n",
       "recall     0.913043  0.913043  0.913043  0.978261\n",
       "fscore     0.911594  0.912847  0.914346  0.978064\n",
       "accuracy   0.913043  0.913043  0.913043  0.978261\n",
       "auc        0.948043  0.947706  0.947368  0.986842"
      ]
     },
     "execution_count": 345,
     "metadata": {},
     "output_type": "execute_result"
    }
   ],
   "source": [
    "#Metricas de error reg_log\n",
    "\n",
    "metrics = list()\n",
    "cm = dict()\n",
    "\n",
    "for lab in coeff_labels:\n",
    "\n",
    "    # Preciision, recall, f-score from the multi-class support function\n",
    "    precision, recall, fscore, _ = score(y_test, y_pred[lab], average='weighted')\n",
    "    \n",
    "    # The usual way to calculate accuracy\n",
    "    accuracy = accuracy_score(y_test, y_pred[lab])\n",
    "    \n",
    "    # ROC-AUC scores can be calculated by binarizing the data\n",
    "    auc = roc_auc_score(label_binarize(y_test, classes=[0,1,2,3,4,5]),\n",
    "              label_binarize(y_pred[lab], classes=[0,1,2,3,4,5]), \n",
    "              average='weighted')\n",
    "    \n",
    "    # Last, the confusion matrix\n",
    "    cm[lab] = confusion_matrix(y_test, y_pred[lab])\n",
    "    \n",
    "    metrics.append(pd.Series({'precision':precision, 'recall':recall, \n",
    "                              'fscore':fscore, 'accuracy':accuracy,\n",
    "                              'auc':auc}, \n",
    "                             name=lab))\n",
    "\n",
    "metrics = pd.concat(metrics, axis=1)\n",
    "metrics"
   ]
  },
  {
   "cell_type": "code",
   "execution_count": 346,
   "id": "6399f658",
   "metadata": {},
   "outputs": [
    {
     "data": {
      "image/png": "[encoded data removed]",
      "text/plain": [
       "<Figure size 864x720 with 8 Axes>"
      ]
     },
     "metadata": {
      "needs_background": "light"
     },
     "output_type": "display_data"
    }
   ],
   "source": [
    "#Matrices de confucion Reg_log\n",
    "fig, axList = plt.subplots(nrows=2, ncols=2)\n",
    "axList = axList.flatten()\n",
    "fig.set_size_inches(12, 10)\n",
    "\n",
    "#axList[-1].axis('off')\n",
    "\n",
    "for ax,lab in zip(axList[:], coeff_labels):\n",
    "    sns.heatmap(cm[lab], ax=ax, annot=True, fmt='d');\n",
    "    ax.set(title=lab);\n",
    "    \n",
    "plt.tight_layout()"
   ]
  },
  {
   "cell_type": "markdown",
   "id": "b2ed984f",
   "metadata": {},
   "source": [
    "# arbol"
   ]
  },
  {
   "cell_type": "code",
   "execution_count": 347,
   "id": "6aa80f34",
   "metadata": {},
   "outputs": [],
   "source": [
    "\"\"\"Arbol\"\"\"\n",
    "# Construcción del método\n",
    "# Train a decision tree with all default arguments\n",
    "rs=123\n",
    "model = DecisionTreeClassifier(random_state=rs)\n",
    "model.fit(X_train, y_train.values.ravel())\n",
    "preds = model.predict(X_test)"
   ]
  },
  {
   "cell_type": "code",
   "execution_count": 348,
   "id": "151773f3",
   "metadata": {},
   "outputs": [],
   "source": [
    "#metricas error\n",
    "def evaluate_metrics(yt, yp):\n",
    "    results_pos = {}\n",
    "    results_pos['accuracy'] = accuracy_score(yt, yp)\n",
    "    precision, recall, f_beta, _ = precision_recall_fscore_support(yt, yp, average='micro')\n",
    "    results_pos['recall'] = recall\n",
    "    results_pos['precision'] = precision\n",
    "    results_pos['f1score'] = f_beta\n",
    "    return results_pos"
   ]
  },
  {
   "cell_type": "code",
   "execution_count": 349,
   "id": "867a1e79",
   "metadata": {},
   "outputs": [
    {
     "data": {
      "text/plain": [
       "accuracy     1.0\n",
       "recall       1.0\n",
       "precision    1.0\n",
       "f1score      1.0\n",
       "dtype: float64"
      ]
     },
     "execution_count": 349,
     "metadata": {},
     "output_type": "execute_result"
    }
   ],
   "source": [
    "pd.Series(evaluate_metrics(y_test, preds))"
   ]
  },
  {
   "cell_type": "markdown",
   "id": "824ee2b6",
   "metadata": {},
   "source": [
    "# Los arboles de decision predicen un poco mejor los datos de entrenamiento que los datos de prueba, debido a que tienden al sobreajuste"
   ]
  },
  {
   "cell_type": "code",
   "execution_count": 350,
   "id": "2b58c35c",
   "metadata": {},
   "outputs": [],
   "source": [
    "\"\"\"otra forma\"\"\"\n",
    "\n",
    "\n",
    "dt = DecisionTreeClassifier(random_state=42)\n",
    "dt = dt.fit(X_train, y_train)\n",
    "def measure_error(y_true, y_pred, label):\n",
    "    return pd.Series({'accuracy':accuracy_score(y_true, y_pred),\n",
    "                      'precision': precision_score(y_true, y_pred, average='micro'),\n",
    "                      'recall': recall_score(y_true, y_pred, average='micro'),\n",
    "                      'f1': f1_score(y_true, y_pred, average='micro')},\n",
    "                      name=label)"
   ]
  },
  {
   "cell_type": "code",
   "execution_count": 351,
   "id": "ae5699e3",
   "metadata": {},
   "outputs": [
    {
     "data": {
      "text/html": [
       "<div>\n",
       "<style scoped>\n",
       "    .dataframe tbody tr th:only-of-type {\n",
       "        vertical-align: middle;\n",
       "    }\n",
       "\n",
       "    .dataframe tbody tr th {\n",
       "        vertical-align: top;\n",
       "    }\n",
       "\n",
       "    .dataframe thead th {\n",
       "        text-align: right;\n",
       "    }\n",
       "</style>\n",
       "<table border=\"1\" class=\"dataframe\">\n",
       "  <thead>\n",
       "    <tr style=\"text-align: right;\">\n",
       "      <th></th>\n",
       "      <th>train</th>\n",
       "      <th>test</th>\n",
       "    </tr>\n",
       "  </thead>\n",
       "  <tbody>\n",
       "    <tr>\n",
       "      <th>accuracy</th>\n",
       "      <td>1.0</td>\n",
       "      <td>1.0</td>\n",
       "    </tr>\n",
       "    <tr>\n",
       "      <th>precision</th>\n",
       "      <td>1.0</td>\n",
       "      <td>1.0</td>\n",
       "    </tr>\n",
       "    <tr>\n",
       "      <th>recall</th>\n",
       "      <td>1.0</td>\n",
       "      <td>1.0</td>\n",
       "    </tr>\n",
       "    <tr>\n",
       "      <th>f1</th>\n",
       "      <td>1.0</td>\n",
       "      <td>1.0</td>\n",
       "    </tr>\n",
       "  </tbody>\n",
       "</table>\n",
       "</div>"
      ],
      "text/plain": [
       "           train  test\n",
       "accuracy     1.0   1.0\n",
       "precision    1.0   1.0\n",
       "recall       1.0   1.0\n",
       "f1           1.0   1.0"
      ]
     },
     "execution_count": 351,
     "metadata": {},
     "output_type": "execute_result"
    }
   ],
   "source": [
    "from sklearn.metrics import accuracy_score, precision_score, recall_score, f1_score, mean_squared_error\n",
    "# The error on the training and test data sets\n",
    "y_train_pred = dt.predict(X_train)\n",
    "y_test_pred = dt.predict(X_test)\n",
    "\n",
    "train_test_full_error = pd.concat([measure_error(y_train, y_train_pred, 'train'),\n",
    "                              measure_error(y_test, y_test_pred, 'test')],\n",
    "                              axis=1)\n",
    "\n",
    "train_test_full_error\n",
    "### END SOLUTION"
   ]
  },
  {
   "cell_type": "code",
   "execution_count": 352,
   "id": "97d08e4b",
   "metadata": {},
   "outputs": [],
   "source": [
    "### Encontrar los mejores parámetros, usando accuracy y busqueda exhaustiva\n",
    "param_grid = {'max_depth':range(1, dt.tree_.max_depth+1, 2),\n",
    "              'max_features': range(1, len(dt.feature_importances_)+1)}\n",
    "\n",
    "GR = GridSearchCV(DecisionTreeClassifier(random_state=42),\n",
    "                  param_grid=param_grid,\n",
    "                  scoring='accuracy',\n",
    "                  n_jobs=-1)\n",
    "\n",
    "GR = GR.fit(X_train, y_train)"
   ]
  },
  {
   "cell_type": "code",
   "execution_count": 353,
   "id": "abf272bd",
   "metadata": {},
   "outputs": [
    {
     "data": {
      "text/plain": [
       "(11, 3)"
      ]
     },
     "execution_count": 353,
     "metadata": {},
     "output_type": "execute_result"
    }
   ],
   "source": [
    "#mejores parametros\n",
    "GR.best_estimator_.tree_.node_count, GR.best_estimator_.tree_.max_depth"
   ]
  },
  {
   "cell_type": "code",
   "execution_count": 354,
   "id": "4f34e405",
   "metadata": {},
   "outputs": [
    {
     "data": {
      "text/html": [
       "<div>\n",
       "<style scoped>\n",
       "    .dataframe tbody tr th:only-of-type {\n",
       "        vertical-align: middle;\n",
       "    }\n",
       "\n",
       "    .dataframe tbody tr th {\n",
       "        vertical-align: top;\n",
       "    }\n",
       "\n",
       "    .dataframe thead th {\n",
       "        text-align: right;\n",
       "    }\n",
       "</style>\n",
       "<table border=\"1\" class=\"dataframe\">\n",
       "  <thead>\n",
       "    <tr style=\"text-align: right;\">\n",
       "      <th></th>\n",
       "      <th>train</th>\n",
       "      <th>test</th>\n",
       "    </tr>\n",
       "  </thead>\n",
       "  <tbody>\n",
       "    <tr>\n",
       "      <th>accuracy</th>\n",
       "      <td>0.978022</td>\n",
       "      <td>0.956522</td>\n",
       "    </tr>\n",
       "    <tr>\n",
       "      <th>precision</th>\n",
       "      <td>0.978022</td>\n",
       "      <td>0.956522</td>\n",
       "    </tr>\n",
       "    <tr>\n",
       "      <th>recall</th>\n",
       "      <td>0.978022</td>\n",
       "      <td>0.956522</td>\n",
       "    </tr>\n",
       "    <tr>\n",
       "      <th>f1</th>\n",
       "      <td>0.978022</td>\n",
       "      <td>0.956522</td>\n",
       "    </tr>\n",
       "  </tbody>\n",
       "</table>\n",
       "</div>"
      ],
      "text/plain": [
       "              train      test\n",
       "accuracy   0.978022  0.956522\n",
       "precision  0.978022  0.956522\n",
       "recall     0.978022  0.956522\n",
       "f1         0.978022  0.956522"
      ]
     },
     "execution_count": 354,
     "metadata": {},
     "output_type": "execute_result"
    }
   ],
   "source": [
    "#Error trainig y test pero esta vez con los mejores parametros\n",
    "\n",
    "y_train_pred_gr = GR.predict(X_train)\n",
    "y_test_pred_gr = GR.predict(X_test)\n",
    "\n",
    "train_test_gr_error = pd.concat([measure_error(y_train, y_train_pred_gr, 'train'),\n",
    "                                 measure_error(y_test, y_test_pred_gr, 'test')],\n",
    "                                axis=1)\n",
    "train_test_gr_error"
   ]
  },
  {
   "cell_type": "code",
   "execution_count": 355,
   "id": "54b7b378",
   "metadata": {},
   "outputs": [
    {
     "data": {
      "image/png": "[encoded data removed]",
      "text/plain": [
       "<Figure size 1800x1440 with 1 Axes>"
      ]
     },
     "metadata": {
      "needs_background": "light"
     },
     "output_type": "display_data"
    }
   ],
   "source": [
    "#Grafico del arbol\n",
    "custom_model = DecisionTreeClassifier(**GR.best_params_)\n",
    "custom_model.fit(X_train, y_train)\n",
    "preds = custom_model.predict(X_test)\n",
    "\n",
    "\n",
    "\n",
    "def plot_decision_tree(model, feature_names, nombre='Tree.png', dpi=1200):\n",
    "    plt.subplots(figsize=(25, 20)) \n",
    "    tree.plot_tree(model, \n",
    "                       feature_names=feature_names,  \n",
    "                       filled=True, class_names=True)\n",
    "    plt.savefig(nombre, format=None, dpi=dpi)\n",
    "    plt.show()\n",
    "    \n",
    "    \n",
    "plot_decision_tree(custom_model, feature_cols, 'Arbol_C.jpg')"
   ]
  }
 ],
 "metadata": {
  "kernelspec": {
   "display_name": "Python 3 (ipykernel)",
   "language": "python",
   "name": "python3"
  },
  "language_info": {
   "codemirror_mode": {
    "name": "ipython",
    "version": 3
   },
   "file_extension": ".py",
   "mimetype": "text/x-python",
   "name": "python",
   "nbconvert_exporter": "python",
   "pygments_lexer": "ipython3",
   "version": "3.9.13"
  }
 },
 "nbformat": 4,
 "nbformat_minor": 5
}
